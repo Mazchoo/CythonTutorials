{
 "cells": [
  {
   "cell_type": "markdown",
   "metadata": {},
   "source": [
    "# Cython Conclusion"
   ]
  },
  {
   "cell_type": "markdown",
   "metadata": {},
   "source": [
    "Cython's predessor Pyrex was an ahead of time compiler. Cython has added some JIT compilation features."
   ]
  },
  {
   "cell_type": "markdown",
   "metadata": {},
   "source": [
    "C and C++ have very efficient libaries which are good canidates to port into python using cython. Profiling is usually involved to check what operations will actually add some speed. It is not easy to tell from the beginning which parts of the code will take the longest to run."
   ]
  },
  {
   "cell_type": "markdown",
   "metadata": {},
   "source": [
    "There are some compilers like Pythran that directly can translate pure python into C but do not support external libraries."
   ]
  },
  {
   "cell_type": "markdown",
   "metadata": {},
   "source": [
    "Nukita and Shedskin are compilers with less restrictions."
   ]
  },
  {
   "cell_type": "markdown",
   "metadata": {},
   "source": [
    "There is already a wrapper around the boost libray in C for python."
   ]
  },
  {
   "cell_type": "markdown",
   "metadata": {},
   "source": [
    "Numeric operation heavy python code can be enhanced with the Numba library. Cython can head with non-numeric types as well."
   ]
  },
  {
   "cell_type": "markdown",
   "metadata": {},
   "source": [
    "SWIG is a libary designed to wrap C++ but has more calltime overhead than Cython."
   ]
  },
  {
   "cell_type": "markdown",
   "metadata": {},
   "source": [
    "There are also some JIT compile libraries for Python."
   ]
  },
  {
   "cell_type": "markdown",
   "metadata": {},
   "source": [
    "Compilation libraries do not allow the fine grained control to keep the program largely in Python. In the end, Python would have more usecases if it was more easily deployable natively. It serves a purpose with Django where a webserver allows you to opimitimize and control access to threads and GPU's which give very fine grain control. C++ backends with a Python GUI interface is also possible."
   ]
  },
  {
   "cell_type": "markdown",
   "metadata": {},
   "source": [
    "Cython has such wide usage in common Python packages. Everyone wants the holy grail of C speed but Pythonic ease of use."
   ]
  }
 ],
 "metadata": {
  "kernelspec": {
   "display_name": "Python 3",
   "language": "python",
   "name": "python3"
  },
  "language_info": {
   "codemirror_mode": {
    "name": "ipython",
    "version": 3
   },
   "file_extension": ".py",
   "mimetype": "text/x-python",
   "name": "python",
   "nbconvert_exporter": "python",
   "pygments_lexer": "ipython3",
   "version": "3.8.5"
  }
 },
 "nbformat": 4,
 "nbformat_minor": 4
}
