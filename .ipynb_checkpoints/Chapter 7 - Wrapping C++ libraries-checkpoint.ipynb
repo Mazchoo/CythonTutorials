{
 "cells": [
  {
   "cell_type": "code",
   "execution_count": 1,
   "metadata": {},
   "outputs": [],
   "source": [
    "%load_ext cython"
   ]
  },
  {
   "cell_type": "markdown",
   "metadata": {},
   "source": [
    "## Calling C++ libraries from Cython"
   ]
  },
  {
   "cell_type": "markdown",
   "metadata": {},
   "source": [
    "We can compile a C++ file alongside our actual program."
   ]
  },
  {
   "cell_type": "code",
   "execution_count": 2,
   "metadata": {},
   "outputs": [],
   "source": [
    "%%cython\n",
    "#distutils: language=c++\n",
    "#distutils: include_dirs=D:/Programming/Python/Cython/CythonBuild\n",
    "\n",
    "cdef extern from 'Randoo.cpp':\n",
    "    cdef int randomInt(int)\n",
    "\n",
    "cpdef int findRandomNumber(int n):\n",
    "    return randomInt(n) + 1"
   ]
  },
  {
   "cell_type": "code",
   "execution_count": 4,
   "metadata": {},
   "outputs": [
    {
     "data": {
      "text/plain": [
       "5"
      ]
     },
     "execution_count": 4,
     "metadata": {},
     "output_type": "execute_result"
    }
   ],
   "source": [
    "findRandomNumber(10)"
   ]
  },
  {
   "cell_type": "code",
   "execution_count": 5,
   "metadata": {},
   "outputs": [
    {
     "name": "stdout",
     "output_type": "stream",
     "text": [
      "Compiling CythonBuild/ExampleCpp.pyx because it changed.\n",
      "[1/1] Cythonizing CythonBuild/ExampleCpp.pyx\n",
      "running build_ext\n",
      "building 'ExampleCpp' extension\n",
      "D:\\Program Files (x86)\\Microsoft Visual Studio\\2017\\Community\\VC\\Tools\\MSVC\\14.16.27023\\bin\\HostX86\\x64\\cl.exe /c /nologo /Ox /W3 /GL /DNDEBUG /MD -ID:/Programming/Python/Cython/CythonBuild -ICythonBuild -ID:\\Anaconda3\\include -ID:\\Anaconda3\\include \"-ID:\\Program Files (x86)\\Microsoft Visual Studio\\2017\\Community\\VC\\Tools\\MSVC\\14.16.27023\\ATLMFC\\include\" \"-ID:\\Program Files (x86)\\Microsoft Visual Studio\\2017\\Community\\VC\\Tools\\MSVC\\14.16.27023\\include\" \"-IC:\\Program Files (x86)\\Windows Kits\\NETFXSDK\\4.6.1\\include\\um\" \"-IC:\\Program Files (x86)\\Windows Kits\\10\\include\\10.0.17763.0\\ucrt\" \"-IC:\\Program Files (x86)\\Windows Kits\\10\\include\\10.0.17763.0\\shared\" \"-IC:\\Program Files (x86)\\Windows Kits\\10\\include\\10.0.17763.0\\um\" \"-IC:\\Program Files (x86)\\Windows Kits\\10\\include\\10.0.17763.0\\winrt\" \"-IC:\\Program Files (x86)\\Windows Kits\\10\\include\\10.0.17763.0\\cppwinrt\" /EHsc /TpCythonBuild/ExampleCpp.cpp /Fobuild\\temp.win-amd64-3.8\\Release\\CythonBuild/ExampleCpp.obj\n",
      "ExampleCpp.cpp\n",
      "d:\\programming\\python\\cython\\cythonbuild\\Randoo.cpp(5): warning C4244: 'argument': conversion from 'time_t' to 'unsigned int', possible loss of data\n",
      "D:\\Program Files (x86)\\Microsoft Visual Studio\\2017\\Community\\VC\\Tools\\MSVC\\14.16.27023\\bin\\HostX86\\x64\\link.exe /nologo /INCREMENTAL:NO /LTCG /DLL /MANIFEST:EMBED,ID=2 /MANIFESTUAC:NO /LIBPATH:D:/Anaconda3/libs /LIBPATH:D:/Anaconda3/PCbuild\\amd64 \"/LIBPATH:D:\\Program Files (x86)\\Microsoft Visual Studio\\2017\\Community\\VC\\Tools\\MSVC\\14.16.27023\\ATLMFC\\lib\\x64\" \"/LIBPATH:D:\\Program Files (x86)\\Microsoft Visual Studio\\2017\\Community\\VC\\Tools\\MSVC\\14.16.27023\\lib\\x64\" \"/LIBPATH:C:\\Program Files (x86)\\Windows Kits\\NETFXSDK\\4.6.1\\lib\\um\\x64\" \"/LIBPATH:C:\\Program Files (x86)\\Windows Kits\\10\\lib\\10.0.17763.0\\ucrt\\x64\" \"/LIBPATH:C:\\Program Files (x86)\\Windows Kits\\10\\lib\\10.0.17763.0\\um\\x64\" /EXPORT:PyInit_ExampleCpp build\\temp.win-amd64-3.8\\Release\\CythonBuild/ExampleCpp.obj /OUT:D:\\Programming\\Python\\Cython\\ExampleCpp.cp38-win_amd64.pyd /IMPLIB:build\\temp.win-amd64-3.8\\Release\\CythonBuild\\ExampleCpp.cp38-win_amd64.lib\n",
      "   Creating library build\\temp.win-amd64-3.8\\Release\\CythonBuild\\ExampleCpp.cp38-win_amd64.lib and object build\\temp.win-amd64-3.8\\Release\\CythonBuild\\ExampleCpp.cp38-win_amd64.exp\n",
      "Generating code\n",
      "Finished generating code\n"
     ]
    },
    {
     "name": "stderr",
     "output_type": "stream",
     "text": [
      "D:\\Anaconda3\\lib\\site-packages\\Cython\\Compiler\\Main.py:369: FutureWarning: Cython directive 'language_level' not set, using 2 for now (Py2). This will change in a later release! File: D:\\Programming\\Python\\Cython\\CythonBuild\\ExampleCpp.pyx\n",
      "  tree = Parsing.p_module(s, pxd, full_module_name)\n"
     ]
    }
   ],
   "source": [
    "!python CythonBuild/setupCompileWithCpp.py build_ext --inplace"
   ]
  },
  {
   "cell_type": "markdown",
   "metadata": {},
   "source": [
    "## Use a fused type instead of a template"
   ]
  },
  {
   "cell_type": "code",
   "execution_count": 36,
   "metadata": {},
   "outputs": [],
   "source": [
    "%%cython\n",
    "#distutils: language=c++\n",
    "\n",
    "cimport cython\n",
    "\n",
    "ctypedef fused long_or_double:\n",
    "    cython.long\n",
    "    cython.double\n",
    "\n",
    "cpdef long_or_double cMin(long_or_double a, long_or_double b):\n",
    "    return min(a, b)"
   ]
  },
  {
   "cell_type": "code",
   "execution_count": 37,
   "metadata": {},
   "outputs": [
    {
     "data": {
      "text/plain": [
       "1"
      ]
     },
     "execution_count": 37,
     "metadata": {},
     "output_type": "execute_result"
    }
   ],
   "source": [
    "cMin(1, 2)"
   ]
  },
  {
   "cell_type": "markdown",
   "metadata": {},
   "source": [
    "## The STL"
   ]
  },
  {
   "cell_type": "markdown",
   "metadata": {},
   "source": [
    "C++ has a standard template library which can be imported into Cython."
   ]
  },
  {
   "cell_type": "markdown",
   "metadata": {},
   "source": [
    "The stl map type can be used in place of a python dict. The api is not as smooth as Python. It isn't faster either..."
   ]
  },
  {
   "cell_type": "code",
   "execution_count": 124,
   "metadata": {},
   "outputs": [],
   "source": [
    "%%cython\n",
    "#distutils: language=c++\n",
    "\n",
    "from libcpp.vector cimport vector\n",
    "from libcpp.string cimport string\n",
    "from libcpp.map cimport map\n",
    "from libcpp.pair cimport pair\n",
    "\n",
    "ctypedef pair[string, int] dPair\n",
    "\n",
    "cpdef func():\n",
    "    cdef vector[int] v\n",
    "    v.push_back(10)\n",
    "    return v\n",
    "\n",
    "cpdef periodicTable():\n",
    "    cdef map[string, int] table\n",
    "    cdef pair[string, int] helium = (b'He', 2)\n",
    "    table.insert(helium)\n",
    "\n",
    "    cdef int i    \n",
    "    for i in range(255):\n",
    "        table.insert((b'H' + bytes([i]), 1))\n",
    "    return table\n",
    "\n",
    "cpdef cyPeriodTable():\n",
    "    output = {b'He': 2}\n",
    "    for i in range(255):\n",
    "        output[b'H' + bytes([i])] = 1\n",
    "    return output"
   ]
  },
  {
   "cell_type": "code",
   "execution_count": null,
   "metadata": {},
   "outputs": [],
   "source": [
    "periodicTable()"
   ]
  },
  {
   "cell_type": "code",
   "execution_count": 116,
   "metadata": {},
   "outputs": [
    {
     "name": "stdout",
     "output_type": "stream",
     "text": [
      "195 µs ± 4.78 µs per loop (mean ± std. dev. of 7 runs, 1000 loops each)\n"
     ]
    }
   ],
   "source": [
    "%timeit periodicTable()"
   ]
  },
  {
   "cell_type": "code",
   "execution_count": 117,
   "metadata": {},
   "outputs": [],
   "source": [
    "def pyPeriodTable():\n",
    "    output = {b'He': 2}\n",
    "    for i in range(255):\n",
    "        output[b'H' + bytes([i])] = 1\n",
    "    return output"
   ]
  },
  {
   "cell_type": "code",
   "execution_count": 118,
   "metadata": {},
   "outputs": [
    {
     "name": "stdout",
     "output_type": "stream",
     "text": [
      "114 µs ± 2.78 µs per loop (mean ± std. dev. of 7 runs, 10000 loops each)\n"
     ]
    }
   ],
   "source": [
    "%timeit pyPeriodTable()"
   ]
  },
  {
   "cell_type": "markdown",
   "metadata": {},
   "source": [
    "Just using a dictionary in cython is faster and not using the int type for the loop. Python dictionaries are relatively fast."
   ]
  },
  {
   "cell_type": "code",
   "execution_count": 125,
   "metadata": {},
   "outputs": [
    {
     "name": "stdout",
     "output_type": "stream",
     "text": [
      "88.1 µs ± 4.1 µs per loop (mean ± std. dev. of 7 runs, 10000 loops each)\n"
     ]
    }
   ],
   "source": [
    "%timeit cyPeriodTable()"
   ]
  },
  {
   "cell_type": "markdown",
   "metadata": {},
   "source": [
    "## C++ sorting"
   ]
  },
  {
   "cell_type": "code",
   "execution_count": 131,
   "metadata": {},
   "outputs": [],
   "source": [
    "%%cython\n",
    "#distutils: language=c++\n",
    "\n",
    "from libcpp.vector cimport vector\n",
    "from cython.operator cimport dereference as deref\n",
    "\n",
    "cdef extern from \"<algorithm>\" namespace \"std\":\n",
    "    void std_sort \"std::sort\" [iter](iter first, iter last)\n",
    "\n",
    "def sortList(list list_vec):\n",
    "    cdef vector[int] vec = list_vec\n",
    "    std_sort[vector[int].iterator](vec.begin(), vec.end())\n",
    "    return vec"
   ]
  },
  {
   "cell_type": "code",
   "execution_count": 132,
   "metadata": {},
   "outputs": [
    {
     "data": {
      "text/plain": [
       "[0, 1, 2, 4, 5]"
      ]
     },
     "execution_count": 132,
     "metadata": {},
     "output_type": "execute_result"
    }
   ],
   "source": [
    "sortList([2, 1, 4, 5, 0])"
   ]
  },
  {
   "cell_type": "code",
   "execution_count": 134,
   "metadata": {},
   "outputs": [
    {
     "name": "stdout",
     "output_type": "stream",
     "text": [
      "1.31 µs ± 117 ns per loop (mean ± std. dev. of 7 runs, 1000000 loops each)\n"
     ]
    }
   ],
   "source": [
    "%timeit sortList([2, 1, 4, 5, 0])"
   ]
  },
  {
   "cell_type": "markdown",
   "metadata": {},
   "source": [
    "This is a few times slower than using a C implementation which has an easier time copying over variables."
   ]
  }
 ],
 "metadata": {
  "kernelspec": {
   "display_name": "Python 3 (ipykernel)",
   "language": "python",
   "name": "python3"
  },
  "language_info": {
   "codemirror_mode": {
    "name": "ipython",
    "version": 3
   },
   "file_extension": ".py",
   "mimetype": "text/x-python",
   "name": "python",
   "nbconvert_exporter": "python",
   "pygments_lexer": "ipython3",
   "version": "3.8.5"
  }
 },
 "nbformat": 4,
 "nbformat_minor": 4
}
