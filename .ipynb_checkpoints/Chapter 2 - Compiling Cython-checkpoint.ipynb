{
 "cells": [
  {
   "cell_type": "code",
   "execution_count": 1,
   "metadata": {},
   "outputs": [],
   "source": [
    "%load_ext cython"
   ]
  },
  {
   "cell_type": "markdown",
   "metadata": {},
   "source": [
    "## Compiling a Cython file to make it importable"
   ]
  },
  {
   "cell_type": "code",
   "execution_count": 2,
   "metadata": {},
   "outputs": [],
   "source": [
    "import Cython"
   ]
  },
  {
   "cell_type": "markdown",
   "metadata": {},
   "source": [
    "The `setup.py` does the compiltation objects and can include external libraries. It would be nice to have a parser that could convert jupyter cells into a set-up file."
   ]
  },
  {
   "cell_type": "code",
   "execution_count": 3,
   "metadata": {},
   "outputs": [
    {
     "name": "stdout",
     "output_type": "stream",
     "text": [
      "Help on module Cython.Distutils.extension in Cython.Distutils:\n",
      "\n",
      "NAME\n",
      "    Cython.Distutils.extension - Pyrex.Distutils.extension\n",
      "\n",
      "DESCRIPTION\n",
      "    Provides a modified Extension class, that understands how to describe\n",
      "    Pyrex extension modules in setup scripts.\n",
      "\n",
      "CLASSES\n",
      "    distutils.extension.Extension(builtins.object)\n",
      "        Extension\n",
      "    \n",
      "    class Extension(distutils.extension.Extension)\n",
      "     |  Extension(name, sources, include_dirs=None, define_macros=None, undef_macros=None, library_dirs=None, libraries=None, runtime_library_dirs=None, extra_objects=None, extra_compile_args=None, extra_link_args=None, export_symbols=None, depends=None, language=None, cython_include_dirs=None, cython_directives=None, cython_create_listing=False, cython_line_directives=False, cython_cplus=False, cython_c_in_temp=False, cython_gen_pxi=False, cython_gdb=False, no_c_in_traceback=False, cython_compile_time_env=None, **kw)\n",
      "     |  \n",
      "     |  Just a collection of attributes that describes an extension\n",
      "     |  module and everything needed to build it (hopefully in a portable\n",
      "     |  way, but there are hooks that let you be as unportable as you need).\n",
      "     |  \n",
      "     |  Instance attributes:\n",
      "     |    name : string\n",
      "     |      the full name of the extension, including any packages -- ie.\n",
      "     |      *not* a filename or pathname, but Python dotted name\n",
      "     |    sources : [string]\n",
      "     |      list of source filenames, relative to the distribution root\n",
      "     |      (where the setup script lives), in Unix form (slash-separated)\n",
      "     |      for portability.  Source files may be C, C++, SWIG (.i),\n",
      "     |      platform-specific resource files, or whatever else is recognized\n",
      "     |      by the \"build_ext\" command as source for a Python extension.\n",
      "     |    include_dirs : [string]\n",
      "     |      list of directories to search for C/C++ header files (in Unix\n",
      "     |      form for portability)\n",
      "     |    define_macros : [(name : string, value : string|None)]\n",
      "     |      list of macros to define; each macro is defined using a 2-tuple,\n",
      "     |      where 'value' is either the string to define it to or None to\n",
      "     |      define it without a particular value (equivalent of \"#define\n",
      "     |      FOO\" in source or -DFOO on Unix C compiler command line)\n",
      "     |    undef_macros : [string]\n",
      "     |      list of macros to undefine explicitly\n",
      "     |    library_dirs : [string]\n",
      "     |      list of directories to search for C/C++ libraries at link time\n",
      "     |    libraries : [string]\n",
      "     |      list of library names (not filenames or paths) to link against\n",
      "     |    runtime_library_dirs : [string]\n",
      "     |      list of directories to search for C/C++ libraries at run time\n",
      "     |      (for shared extensions, this is when the extension is loaded)\n",
      "     |    extra_objects : [string]\n",
      "     |      list of extra files to link with (eg. object files not implied\n",
      "     |      by 'sources', static library that must be explicitly specified,\n",
      "     |      binary resource files, etc.)\n",
      "     |    extra_compile_args : [string]\n",
      "     |      any extra platform- and compiler-specific information to use\n",
      "     |      when compiling the source files in 'sources'.  For platforms and\n",
      "     |      compilers where \"command line\" makes sense, this is typically a\n",
      "     |      list of command-line arguments, but for other platforms it could\n",
      "     |      be anything.\n",
      "     |    extra_link_args : [string]\n",
      "     |      any extra platform- and compiler-specific information to use\n",
      "     |      when linking object files together to create the extension (or\n",
      "     |      to create a new static Python interpreter).  Similar\n",
      "     |      interpretation as for 'extra_compile_args'.\n",
      "     |    export_symbols : [string]\n",
      "     |      list of symbols to be exported from a shared extension.  Not\n",
      "     |      used on all platforms, and not generally necessary for Python\n",
      "     |      extensions, which typically export exactly one symbol: \"init\" +\n",
      "     |      extension_name.\n",
      "     |    swig_opts : [string]\n",
      "     |      any extra options to pass to SWIG if a source file has the .i\n",
      "     |      extension.\n",
      "     |    depends : [string]\n",
      "     |      list of files that the extension depends on\n",
      "     |    language : string\n",
      "     |      extension language (i.e. \"c\", \"c++\", \"objc\"). Will be detected\n",
      "     |      from the source extensions if not provided.\n",
      "     |    optional : boolean\n",
      "     |      specifies that a build failure in the extension should not abort the\n",
      "     |      build process, but simply not install the failing extension.\n",
      "     |  \n",
      "     |  Method resolution order:\n",
      "     |      Extension\n",
      "     |      distutils.extension.Extension\n",
      "     |      builtins.object\n",
      "     |  \n",
      "     |  Methods defined here:\n",
      "     |  \n",
      "     |  __init__(self, name, sources, include_dirs=None, define_macros=None, undef_macros=None, library_dirs=None, libraries=None, runtime_library_dirs=None, extra_objects=None, extra_compile_args=None, extra_link_args=None, export_symbols=None, depends=None, language=None, cython_include_dirs=None, cython_directives=None, cython_create_listing=False, cython_line_directives=False, cython_cplus=False, cython_c_in_temp=False, cython_gen_pxi=False, cython_gdb=False, no_c_in_traceback=False, cython_compile_time_env=None, **kw)\n",
      "     |      Initialize self.  See help(type(self)) for accurate signature.\n",
      "     |  \n",
      "     |  ----------------------------------------------------------------------\n",
      "     |  Methods inherited from distutils.extension.Extension:\n",
      "     |  \n",
      "     |  __repr__(self)\n",
      "     |      Return repr(self).\n",
      "     |  \n",
      "     |  ----------------------------------------------------------------------\n",
      "     |  Data descriptors inherited from distutils.extension.Extension:\n",
      "     |  \n",
      "     |  __dict__\n",
      "     |      dictionary for instance variables (if defined)\n",
      "     |  \n",
      "     |  __weakref__\n",
      "     |      list of weak references to the object (if defined)\n",
      "\n",
      "DATA\n",
      "    __revision__ = '$Id:$'\n",
      "\n",
      "FILE\n",
      "    d:\\anaconda3\\lib\\site-packages\\cython\\distutils\\extension.py\n",
      "\n",
      "\n"
     ]
    }
   ],
   "source": [
    "help(Cython.Distutils.extension)"
   ]
  },
  {
   "cell_type": "code",
   "execution_count": 4,
   "metadata": {},
   "outputs": [
    {
     "name": "stdout",
     "output_type": "stream",
     "text": [
      "running build_ext\n"
     ]
    }
   ],
   "source": [
    "!python testSetup.py build_ext --inplace"
   ]
  },
  {
   "cell_type": "code",
   "execution_count": 5,
   "metadata": {},
   "outputs": [],
   "source": [
    "from testCythonCommand import *"
   ]
  },
  {
   "cell_type": "code",
   "execution_count": 6,
   "metadata": {},
   "outputs": [
    {
     "data": {
      "text/plain": [
       "15"
      ]
     },
     "execution_count": 6,
     "metadata": {},
     "output_type": "execute_result"
    }
   ],
   "source": [
    "triangularNum(5)"
   ]
  },
  {
   "cell_type": "markdown",
   "metadata": {},
   "source": [
    "Here are the optional arguments for the compilation:\n",
    "   + --version : Shows the version of cython used\n",
    "   + --include-dir : Adds an include directory\n",
    "   + --output-file \\<filename\\> : outputs a file to the output directory\n",
    "   + --no-doctrings : removes docstrings\n",
    "   + -- annotate : produces HTML showing the conversions made\n",
    "   + --cplus : Outputs a C++ built file\n",
    "   + --lenient : Allow some compile errors to be runtime errors for debugging"
   ]
  },
  {
   "cell_type": "markdown",
   "metadata": {},
   "source": [
    "## Keep debugging stuff out of cython"
   ]
  },
  {
   "cell_type": "code",
   "execution_count": 2,
   "metadata": {},
   "outputs": [],
   "source": [
    "import numpy as np\n",
    "import pdb"
   ]
  },
  {
   "cell_type": "code",
   "execution_count": 44,
   "metadata": {},
   "outputs": [],
   "source": [
    "%%cython\n",
    "#distutils: language=c++\n",
    "\n",
    "from testCythonCommand import *\n",
    "cdef int thing = triangularNum(1)\n",
    "\n",
    "from libcpp.vector cimport vector\n",
    "from libcpp.string cimport string\n",
    "\n",
    "import sys\n",
    "        \n",
    "def Debugger(local_vars):\n",
    "    while True:\n",
    "        try:\n",
    "            x = input()\n",
    "            if x in [\"continue\", \"c\"]:\n",
    "                return\n",
    "            elif x in local_vars.keys():\n",
    "                print(local_vars[x])\n",
    "            elif x == \"locals()\":\n",
    "                print(local_vars)\n",
    "        except:\n",
    "            print('Input could not be parsed')\n",
    "            \n",
    "\n",
    "cdef class IntBunch:\n",
    "    cdef vector[int] _values\n",
    "    cdef add(self, int i):\n",
    "        self._values.push_back(i)\n",
    "    \n",
    "    cpdef append(self, int i):\n",
    "        self.add(i)\n",
    "    \n",
    "    def __repr__(self):\n",
    "        return repr(self._values)\n",
    "    \n",
    "    def doStuff(self, np, pdb):\n",
    "        intermediate_result = self._values\n",
    "        k = np.ones(100)\n",
    "        #pdb.set_trace() # This does nothing!\n",
    "        # You could try making a debugger using the following function calls\n",
    "        Debugger(locals())"
   ]
  },
  {
   "cell_type": "code",
   "execution_count": 45,
   "metadata": {},
   "outputs": [],
   "source": [
    "vec = IntBunch()\n",
    "vec.append(1)\n",
    "vec.append(2)\n",
    "vec.append(3)"
   ]
  },
  {
   "cell_type": "code",
   "execution_count": 46,
   "metadata": {},
   "outputs": [
    {
     "data": {
      "text/plain": [
       "[1, 2, 3]"
      ]
     },
     "execution_count": 46,
     "metadata": {},
     "output_type": "execute_result"
    }
   ],
   "source": [
    "vec"
   ]
  },
  {
   "cell_type": "markdown",
   "metadata": {},
   "source": [
    "Cython code cannot be directly debugged. It may have to be tested first and the debugged."
   ]
  },
  {
   "cell_type": "code",
   "execution_count": 47,
   "metadata": {},
   "outputs": [
    {
     "name": "stdout",
     "output_type": "stream",
     "text": [
      "q\n",
      "{'intermediate_result': [1, 2, 3], 'k': array([1., 1., 1., 1., 1., 1., 1., 1., 1., 1., 1., 1., 1., 1., 1., 1., 1.,\n",
      "       1., 1., 1., 1., 1., 1., 1., 1., 1., 1., 1., 1., 1., 1., 1., 1., 1.,\n",
      "       1., 1., 1., 1., 1., 1., 1., 1., 1., 1., 1., 1., 1., 1., 1., 1., 1.,\n",
      "       1., 1., 1., 1., 1., 1., 1., 1., 1., 1., 1., 1., 1., 1., 1., 1., 1.,\n",
      "       1., 1., 1., 1., 1., 1., 1., 1., 1., 1., 1., 1., 1., 1., 1., 1., 1.,\n",
      "       1., 1., 1., 1., 1., 1., 1., 1., 1., 1., 1., 1., 1., 1., 1.]), 'np': <module 'numpy' from 'D:\\\\Anaconda3\\\\lib\\\\site-packages\\\\numpy\\\\__init__.py'>, 'pdb': <module 'pdb' from 'D:\\\\Anaconda3\\\\lib\\\\pdb.py'>, 'self': [1, 2, 3]}\n"
     ]
    }
   ],
   "source": [
    "vec.doStuff(np, pdb)"
   ]
  },
  {
   "cell_type": "markdown",
   "metadata": {},
   "source": [
    "## Cython decorators"
   ]
  },
  {
   "cell_type": "markdown",
   "metadata": {},
   "source": [
    "We can use cython decorators to speed up C code."
   ]
  },
  {
   "cell_type": "code",
   "execution_count": 38,
   "metadata": {},
   "outputs": [],
   "source": [
    "%%cython\n",
    "\n",
    "cimport cython\n",
    "\n",
    "@cython.boundscheck(False)\n",
    "@cython.wraparound(False)\n",
    "def fast_indexing():\n",
    "    pass"
   ]
  }
 ],
 "metadata": {
  "kernelspec": {
   "display_name": "Python 3",
   "language": "python",
   "name": "python3"
  },
  "language_info": {
   "codemirror_mode": {
    "name": "ipython",
    "version": 3
   },
   "file_extension": ".py",
   "mimetype": "text/x-python",
   "name": "python",
   "nbconvert_exporter": "python",
   "pygments_lexer": "ipython3",
   "version": "3.8.5"
  }
 },
 "nbformat": 4,
 "nbformat_minor": 4
}
