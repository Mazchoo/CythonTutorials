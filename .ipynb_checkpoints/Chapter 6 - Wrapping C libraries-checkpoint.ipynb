{
 "cells": [
  {
   "cell_type": "code",
   "execution_count": 2,
   "metadata": {},
   "outputs": [],
   "source": [
    "%load_ext cython"
   ]
  },
  {
   "cell_type": "markdown",
   "metadata": {},
   "source": [
    "## Calling Python from C"
   ]
  },
  {
   "cell_type": "markdown",
   "metadata": {},
   "source": [
    "In order to generate a `.c` and `.h` file to use externally (instead of just the `.pyx` file), we need to add the ketword **public** to our cdef declarations."
   ]
  },
  {
   "cell_type": "markdown",
   "metadata": {},
   "source": [
    "Here is an example of a pyrex file to be used. The distutils comment can go in the pyrex file."
   ]
  },
  {
   "cell_type": "code",
   "execution_count": 3,
   "metadata": {},
   "outputs": [],
   "source": [
    "%%cython\n",
    "#distutils: language=c++\n",
    "\n",
    "cdef public float PI = 3.1415926\n",
    "\n",
    "cpdef public double getPi():\n",
    "    print(\"Getting PI is being called.\")\n",
    "    return PI\n",
    "\n",
    "cdef public double getE():\n",
    "    print(\"Getting E\")\n",
    "    return 2.718281828"
   ]
  },
  {
   "cell_type": "markdown",
   "metadata": {},
   "source": [
    "The following function does not work in C++. The whole process is an embarassment. Cython is not suitable to extend C. Cython can extend Cython with C capabilities however."
   ]
  },
  {
   "cell_type": "code",
   "execution_count": 15,
   "metadata": {},
   "outputs": [
    {
     "name": "stdout",
     "output_type": "stream",
     "text": [
      "Getting PI is being called.\n"
     ]
    },
    {
     "data": {
      "text/plain": [
       "3.141592502593994"
      ]
     },
     "execution_count": 15,
     "metadata": {},
     "output_type": "execute_result"
    }
   ],
   "source": [
    "getPi()"
   ]
  },
  {
   "cell_type": "code",
   "execution_count": 17,
   "metadata": {},
   "outputs": [
    {
     "name": "stdout",
     "output_type": "stream",
     "text": [
      "Compiling CythonBuild/PythonFromC.pyx because it changed."
     ]
    },
    {
     "name": "stderr",
     "output_type": "stream",
     "text": [
      "D:\\Anaconda3\\lib\\site-packages\\Cython\\Compiler\\Main.py:369: FutureWarning: Cython directive 'language_level' not set, using 2 for now (Py2). This will change in a later release! File: D:\\Programming\\Python\\Cython\\CythonBuild\\PythonFromC.pyx\n",
      "  tree = Parsing.p_module(s, pxd, full_module_name)\n"
     ]
    },
    {
     "name": "stdout",
     "output_type": "stream",
     "text": [
      "\n",
      "[1/1] Cythonizing CythonBuild/PythonFromC.pyx\n",
      "running build_ext\n",
      "building 'PythonFromC' extension\n",
      "D:\\Program Files (x86)\\Microsoft Visual Studio\\2017\\Community\\VC\\Tools\\MSVC\\14.16.27023\\bin\\HostX86\\x64\\cl.exe /c /nologo /Ox /W3 /GL /DNDEBUG /MD -ID:\\Anaconda3\\include -ID:\\Anaconda3\\include \"-ID:\\Program Files (x86)\\Microsoft Visual Studio\\2017\\Community\\VC\\Tools\\MSVC\\14.16.27023\\ATLMFC\\include\" \"-ID:\\Program Files (x86)\\Microsoft Visual Studio\\2017\\Community\\VC\\Tools\\MSVC\\14.16.27023\\include\" \"-IC:\\Program Files (x86)\\Windows Kits\\NETFXSDK\\4.6.1\\include\\um\" \"-IC:\\Program Files (x86)\\Windows Kits\\10\\include\\10.0.17763.0\\ucrt\" \"-IC:\\Program Files (x86)\\Windows Kits\\10\\include\\10.0.17763.0\\shared\" \"-IC:\\Program Files (x86)\\Windows Kits\\10\\include\\10.0.17763.0\\um\" \"-IC:\\Program Files (x86)\\Windows Kits\\10\\include\\10.0.17763.0\\winrt\" \"-IC:\\Program Files (x86)\\Windows Kits\\10\\include\\10.0.17763.0\\cppwinrt\" /EHsc /TpCythonBuild/PythonFromC.cpp /Fobuild\\temp.win-amd64-3.8\\Release\\CythonBuild/PythonFromC.obj\n",
      "PythonFromC.cpp\n",
      "CythonBuild/PythonFromC.cpp(1587): warning C4305: '=': truncation from 'double' to 'float'\n",
      "D:\\Program Files (x86)\\Microsoft Visual Studio\\2017\\Community\\VC\\Tools\\MSVC\\14.16.27023\\bin\\HostX86\\x64\\link.exe /nologo /INCREMENTAL:NO /LTCG /DLL /MANIFEST:EMBED,ID=2 /MANIFESTUAC:NO /LIBPATH:D:/Anaconda3/libs /LIBPATH:D:/Anaconda3/PCbuild\\amd64 \"/LIBPATH:D:\\Program Files (x86)\\Microsoft Visual Studio\\2017\\Community\\VC\\Tools\\MSVC\\14.16.27023\\ATLMFC\\lib\\x64\" \"/LIBPATH:D:\\Program Files (x86)\\Microsoft Visual Studio\\2017\\Community\\VC\\Tools\\MSVC\\14.16.27023\\lib\\x64\" \"/LIBPATH:C:\\Program Files (x86)\\Windows Kits\\NETFXSDK\\4.6.1\\lib\\um\\x64\" \"/LIBPATH:C:\\Program Files (x86)\\Windows Kits\\10\\lib\\10.0.17763.0\\ucrt\\x64\" \"/LIBPATH:C:\\Program Files (x86)\\Windows Kits\\10\\lib\\10.0.17763.0\\um\\x64\" /EXPORT:PyInit_PythonFromC build\\temp.win-amd64-3.8\\Release\\CythonBuild/PythonFromC.obj /OUT:D:\\Programming\\Python\\Cython\\PythonFromC.cp38-win_amd64.pyd /IMPLIB:build\\temp.win-amd64-3.8\\Release\\CythonBuild\\PythonFromC.cp38-win_amd64.lib\n",
      "   Creating library build\\temp.win-amd64-3.8\\Release\\CythonBuild\\PythonFromC.cp38-win_amd64.lib and object build\\temp.win-amd64-3.8\\Release\\CythonBuild\\PythonFromC.cp38-win_amd64.exp\n",
      "Generating code\n",
      "Finished generating code\n"
     ]
    }
   ],
   "source": [
    "!python CythonBuild/setup.py build_ext --inplace"
   ]
  },
  {
   "cell_type": "markdown",
   "metadata": {},
   "source": [
    "Make sure the PYTHONPATH and PYTHONHOME environment vairables are set correctly. Next we need the Python header file `Python.h` located in PYTHONPATH/include/Python.h. Add a input folder PYTHONPATH/libs. Add the extracted file to the C++ project."
   ]
  },
  {
   "cell_type": "markdown",
   "metadata": {},
   "source": [
    "## Calling C libraries from Cython"
   ]
  },
  {
   "cell_type": "markdown",
   "metadata": {},
   "source": [
    "Recall that a header file can be read in as external file and the required functions can be copied over."
   ]
  },
  {
   "cell_type": "code",
   "execution_count": 8,
   "metadata": {},
   "outputs": [],
   "source": [
    "%%cython\n",
    "\n",
    "cdef extern from \"stdlib.h\":\n",
    "    void* malloc(size_t size)\n",
    "    void free(void *ptr)\n",
    "\n",
    "cpdef list pyBubbleSort(list x):\n",
    "    cdef:\n",
    "        int *array\n",
    "        int i, j, N, placeholder\n",
    "    \n",
    "    N = len(x)\n",
    "    \n",
    "    array = <int*>malloc(sizeof(int) * N)\n",
    "    if array == NULL:\n",
    "        raise MemoryError(\"Unable to allocate array\")\n",
    "    \n",
    "    for i in range(N):\n",
    "        array[i] = x[i]\n",
    "    \n",
    "    for i in range(N-1, 0, -1):\n",
    "        for j in range(i):\n",
    "            if array[j] > array[j+1]:\n",
    "                placeholder = array[j]\n",
    "                array[j] = array[j+1]\n",
    "                array[j+1] = placeholder\n",
    "    \n",
    "    for i in range(N):\n",
    "        x[i] = array[i]\n",
    "    free(array)\n",
    "    \n",
    "    return x\n",
    "    "
   ]
  },
  {
   "cell_type": "code",
   "execution_count": 6,
   "metadata": {},
   "outputs": [
    {
     "data": {
      "text/plain": [
       "[0, 1, 2, 4, 5]"
      ]
     },
     "execution_count": 6,
     "metadata": {},
     "output_type": "execute_result"
    }
   ],
   "source": [
    "pyBubbleSort([2, 1, 4, 5, 0])"
   ]
  },
  {
   "cell_type": "code",
   "execution_count": 9,
   "metadata": {},
   "outputs": [
    {
     "name": "stdout",
     "output_type": "stream",
     "text": [
      "370 ns ± 69.4 ns per loop (mean ± std. dev. of 7 runs, 1000000 loops each)\n"
     ]
    }
   ],
   "source": [
    "%timeit pyBubbleSort([2, 1, 4, 5, 0])"
   ]
  },
  {
   "cell_type": "code",
   "execution_count": 4,
   "metadata": {},
   "outputs": [],
   "source": [
    "%%cython\n",
    "\n",
    "cdef extern from 'stdlib.h':\n",
    "    # @param - base = C style array to be sorted\n",
    "    # @param - N = length of array\n",
    "    # @param - size = size in bytes of elements in array\n",
    "    void qsort (void* base, size_t num, size_t size,\n",
    "            int (*compar)(const void*,const void*))\n",
    "    void* malloc(size_t size)\n",
    "    void free(void *ptr)\n",
    "\n",
    "cdef int intCompare(const void *a, const void *b):\n",
    "    cdef int ia, ib\n",
    "    ia = (<int*>a)[0]\n",
    "    ib = (<int*>b)[0]\n",
    "    return ia - ib\n",
    "\n",
    "cdef int reverseIntCompare(const void *a, const void *b):\n",
    "    return -intCompare(a, b)\n",
    "\n",
    "ctypedef int (*qsortCompare)(const void *, const void *)\n",
    "\n",
    "def pyqsort(list x, reverse=False):\n",
    "    cdef qsortCompare compare_callback\n",
    "    \n",
    "    if reverse:\n",
    "        compare_callback = reverseIntCompare\n",
    "    else:\n",
    "        compare_callback = intCompare\n",
    "        \n",
    "    cdef:\n",
    "        int *array\n",
    "        int i, N\n",
    "    \n",
    "    N = len(x)\n",
    "    \n",
    "    array = <int*>malloc(sizeof(int) * N)\n",
    "    if array == NULL:\n",
    "        raise MemoryError(\"Unable to allocate array\")\n",
    "    \n",
    "    for i in range(N):\n",
    "        array[i] = x[i]\n",
    "\n",
    "    qsort(array, N, sizeof(int), compare_callback)\n",
    "\n",
    "    for i in range(N):\n",
    "        x[i] = array[i]\n",
    "    free(array)\n",
    "    \n",
    "    return x"
   ]
  },
  {
   "cell_type": "code",
   "execution_count": 5,
   "metadata": {},
   "outputs": [
    {
     "data": {
      "text/plain": [
       "[0, 1, 2, 4, 5]"
      ]
     },
     "execution_count": 5,
     "metadata": {},
     "output_type": "execute_result"
    }
   ],
   "source": [
    "pyqsort([2, 1, 4, 5, 0])"
   ]
  },
  {
   "cell_type": "code",
   "execution_count": 6,
   "metadata": {},
   "outputs": [
    {
     "data": {
      "text/plain": [
       "[5, 4, 2, 1, 0]"
      ]
     },
     "execution_count": 6,
     "metadata": {},
     "output_type": "execute_result"
    }
   ],
   "source": [
    "pyqsort([2, 1, 4, 5, 0], True)"
   ]
  },
  {
   "cell_type": "code",
   "execution_count": 7,
   "metadata": {},
   "outputs": [
    {
     "name": "stdout",
     "output_type": "stream",
     "text": [
      "541 ns ± 84.2 ns per loop (mean ± std. dev. of 7 runs, 1000000 loops each)\n"
     ]
    }
   ],
   "source": [
    "%timeit pyqsort([2, 1, 4, 5, 0])"
   ]
  }
 ],
 "metadata": {
  "kernelspec": {
   "display_name": "Python 3",
   "language": "python",
   "name": "python3"
  },
  "language_info": {
   "codemirror_mode": {
    "name": "ipython",
    "version": 3
   },
   "file_extension": ".py",
   "mimetype": "text/x-python",
   "name": "python",
   "nbconvert_exporter": "python",
   "pygments_lexer": "ipython3",
   "version": "3.8.5"
  }
 },
 "nbformat": 4,
 "nbformat_minor": 4
}
