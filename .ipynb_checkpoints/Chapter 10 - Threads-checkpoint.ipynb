{
 "cells": [
  {
   "cell_type": "code",
   "execution_count": 1,
   "metadata": {},
   "outputs": [],
   "source": [
    "%load_ext cython"
   ]
  },
  {
   "cell_type": "markdown",
   "metadata": {},
   "source": [
    "## There's a GIL"
   ]
  },
  {
   "cell_type": "markdown",
   "metadata": {},
   "source": [
    "The GIL is the global interpreter lock which makes python thread safe by doing things to be objects. Cython functions do not need to be used."
   ]
  },
  {
   "cell_type": "markdown",
   "metadata": {},
   "source": [
    "The number of cores is displayed in the task manager performance."
   ]
  },
  {
   "cell_type": "code",
   "execution_count": 2,
   "metadata": {},
   "outputs": [],
   "source": [
    "%%cython\n",
    "\n",
    "cdef extern from 'math.h':\n",
    "    double cos(double x)\n",
    "    double sin(double x)\n",
    "    double tan(double x)\n",
    "\n",
    "cdef double func(double x):\n",
    "    cdef double ss = 0\n",
    "    cdef int i\n",
    "    for i in range(1000):\n",
    "        ss = (cos(i) * sin(i) * tan(i))**100\n",
    "    return ss\n",
    "    \n",
    "cpdef runWithGil():\n",
    "    cdef int i\n",
    "    cdef double ss\n",
    "    for i in range(100):\n",
    "        ss = func(i)\n",
    "    return ss"
   ]
  },
  {
   "cell_type": "code",
   "execution_count": 3,
   "metadata": {},
   "outputs": [
    {
     "name": "stdout",
     "output_type": "stream",
     "text": [
      "10.4 ms ± 308 µs per loop (mean ± std. dev. of 7 runs, 100 loops each)\n"
     ]
    }
   ],
   "source": [
    "%timeit runWithGil()"
   ]
  },
  {
   "cell_type": "code",
   "execution_count": 12,
   "metadata": {},
   "outputs": [],
   "source": [
    "%%cython\n",
    "\n",
    "from cython.parallel cimport prange\n",
    "\n",
    "cdef extern from 'math.h':\n",
    "    double cos(double x) nogil\n",
    "    double sin(double x) nogil\n",
    "    double tan(double x) nogil\n",
    "\n",
    "cdef double func(double x) nogil:\n",
    "    cdef double ss = 0\n",
    "    cdef int i\n",
    "    for i in prange(1000, nogil = True, schedule='static', chunksize=1):\n",
    "        ss = (cos(i) * sin(i) * tan(i))**100\n",
    "    return ss\n",
    "\n",
    "cdef double calcParallel() nogil:\n",
    "    cdef double ss = 0\n",
    "    cdef int i\n",
    "    for i in prange(100):\n",
    "        ss = func(i)\n",
    "    return ss\n",
    "\n",
    "def runSumNoGil():\n",
    "    return calcParallel()"
   ]
  },
  {
   "cell_type": "code",
   "execution_count": 13,
   "metadata": {},
   "outputs": [
    {
     "name": "stdout",
     "output_type": "stream",
     "text": [
      "11 ms ± 400 µs per loop (mean ± std. dev. of 7 runs, 100 loops each)\n"
     ]
    }
   ],
   "source": [
    "%timeit runSumNoGil()"
   ]
  },
  {
   "cell_type": "markdown",
   "metadata": {},
   "source": [
    "Using the gil here did not speed anything up and the fact we cannot use python clases like numpy arrays makes the whole thing better avoided. Python offers parallelisation libraries which can do the job better with a minimal but debuggable interface."
   ]
  }
 ],
 "metadata": {
  "kernelspec": {
   "display_name": "Python 3",
   "language": "python",
   "name": "python3"
  },
  "language_info": {
   "codemirror_mode": {
    "name": "ipython",
    "version": 3
   },
   "file_extension": ".py",
   "mimetype": "text/x-python",
   "name": "python",
   "nbconvert_exporter": "python",
   "pygments_lexer": "ipython3",
   "version": "3.8.5"
  }
 },
 "nbformat": 4,
 "nbformat_minor": 4
}
