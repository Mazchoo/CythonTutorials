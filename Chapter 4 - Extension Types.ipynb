{
 "cells": [
  {
   "cell_type": "code",
   "execution_count": 1,
   "metadata": {},
   "outputs": [],
   "source": [
    "%load_ext cython"
   ]
  },
  {
   "cell_type": "markdown",
   "metadata": {},
   "source": [
    "## Creating extension types"
   ]
  },
  {
   "cell_type": "markdown",
   "metadata": {},
   "source": [
    "An extension type is a python class that has definitions in Cython. A dict and a list has Cython equivalent class. Since Cython cannot be debugged, it does not need to have a `__dict__` obj or the overhead associated with it."
   ]
  },
  {
   "cell_type": "code",
   "execution_count": 2,
   "metadata": {},
   "outputs": [],
   "source": [
    "%%cython\n",
    "\n",
    "cdef class Particle:\n",
    "    cdef double mass, position, velocity\n",
    "    \n",
    "    def __init__(self, mass, position, velocity):\n",
    "        self.mass = mass\n",
    "        self.position = position\n",
    "        self.velocity = velocity\n",
    "    \n",
    "    cpdef getMass(self):\n",
    "        return self.mass\n",
    "    \n",
    "    def __add__(self, other):\n",
    "        return self.getMass() + other.getMass()"
   ]
  },
  {
   "cell_type": "code",
   "execution_count": 3,
   "metadata": {},
   "outputs": [
    {
     "data": {
      "text/plain": [
       "2.0"
      ]
     },
     "execution_count": 3,
     "metadata": {},
     "output_type": "execute_result"
    }
   ],
   "source": [
    "Particle(1,2,3) + Particle(1,2,3)"
   ]
  },
  {
   "cell_type": "code",
   "execution_count": 4,
   "metadata": {},
   "outputs": [
    {
     "name": "stdout",
     "output_type": "stream",
     "text": [
      "Adding to the wrong type does not work.\n"
     ]
    }
   ],
   "source": [
    "try:\n",
    "    Particle(1,2,3) + None\n",
    "except:\n",
    "    print('Adding to the wrong type does not work.')"
   ]
  },
  {
   "cell_type": "markdown",
   "metadata": {},
   "source": [
    "Bear in mind that this class is private and anything defined as cdef cannot be directly accessed by python. The `__init__` function has access but the `__add__` function does not."
   ]
  },
  {
   "cell_type": "code",
   "execution_count": 5,
   "metadata": {},
   "outputs": [
    {
     "data": {
      "text/plain": [
       "<_cython_magic_94fbc60374443bfec05f0156de849623.Particle at 0x171c706e720>"
      ]
     },
     "execution_count": 5,
     "metadata": {},
     "output_type": "execute_result"
    }
   ],
   "source": [
    "Particle(1,2,3)"
   ]
  },
  {
   "cell_type": "markdown",
   "metadata": {},
   "source": [
    "## Creating constant variables in a Cython class"
   ]
  },
  {
   "cell_type": "code",
   "execution_count": 6,
   "metadata": {},
   "outputs": [],
   "source": [
    "%%cython\n",
    "\n",
    "cdef class PrivateParticle:\n",
    "    cdef readonly double mass, position, velocity\n",
    "    \n",
    "    def __init__(self, mass, position, velocity):\n",
    "        self.mass = mass\n",
    "        self.position = position\n",
    "        self.velocity = velocity\n",
    "    \n",
    "    cpdef destroyMass(self):\n",
    "        self.mass = 0\n"
   ]
  },
  {
   "cell_type": "code",
   "execution_count": 7,
   "metadata": {},
   "outputs": [],
   "source": [
    "particle = PrivateParticle(1,2,3)"
   ]
  },
  {
   "cell_type": "code",
   "execution_count": 8,
   "metadata": {},
   "outputs": [],
   "source": [
    "particle.destroyMass()"
   ]
  },
  {
   "cell_type": "code",
   "execution_count": 9,
   "metadata": {},
   "outputs": [
    {
     "data": {
      "text/plain": [
       "0.0"
      ]
     },
     "execution_count": 9,
     "metadata": {},
     "output_type": "execute_result"
    }
   ],
   "source": [
    "particle.mass"
   ]
  },
  {
   "cell_type": "code",
   "execution_count": 10,
   "metadata": {},
   "outputs": [
    {
     "name": "stdout",
     "output_type": "stream",
     "text": [
      "Cannot change value from python but can view it\n"
     ]
    }
   ],
   "source": [
    "try:\n",
    "    particle.mass = 3\n",
    "except:\n",
    "    print('Cannot change value from python but can view it')"
   ]
  },
  {
   "cell_type": "code",
   "execution_count": 11,
   "metadata": {},
   "outputs": [],
   "source": [
    "%%cython\n",
    "\n",
    "cdef class PublicParticle:\n",
    "    cdef public double mass, position, velocity\n",
    "    \n",
    "    def __init__(self, mass, position, velocity):\n",
    "        self.mass = mass\n",
    "        self.position = position\n",
    "        self.velocity = velocity"
   ]
  },
  {
   "cell_type": "code",
   "execution_count": 12,
   "metadata": {},
   "outputs": [],
   "source": [
    "public_particle = PublicParticle(1,2,3)"
   ]
  },
  {
   "cell_type": "markdown",
   "metadata": {},
   "source": [
    "Python can do whatever it likes with public attributes."
   ]
  },
  {
   "cell_type": "code",
   "execution_count": 13,
   "metadata": {},
   "outputs": [],
   "source": [
    "public_particle.position += 1"
   ]
  },
  {
   "cell_type": "markdown",
   "metadata": {},
   "source": [
    "## Initialize a structure from C"
   ]
  },
  {
   "cell_type": "code",
   "execution_count": 14,
   "metadata": {},
   "outputs": [],
   "source": [
    "%%cython\n",
    "\n",
    "cdef class SmallImage:\n",
    "    cdef:\n",
    "        unsigned char n_rows, n_cols\n",
    "    \n",
    "    def _cinit_(self, unsigned char n_rows, unsigned char n_cols):\n",
    "        self.n_rows = n_rows\n",
    "        self.n_cols = n_cols\n",
    "\n",
    "cdef class SmallImagePython:\n",
    "    cdef:\n",
    "        unsigned char n_rows, n_cols\n",
    "    \n",
    "    def _init_(self, unsigned char n_rows, unsigned char n_cols):\n",
    "        self.n_rows = n_rows\n",
    "        self.n_cols = n_cols"
   ]
  },
  {
   "cell_type": "code",
   "execution_count": 15,
   "metadata": {},
   "outputs": [],
   "source": [
    "small_img = SmallImage(100, 100)"
   ]
  },
  {
   "cell_type": "code",
   "execution_count": 16,
   "metadata": {},
   "outputs": [
    {
     "name": "stdout",
     "output_type": "stream",
     "text": [
      "154 ns ± 21 ns per loop (mean ± std. dev. of 7 runs, 10000000 loops each)\n"
     ]
    }
   ],
   "source": [
    "%timeit SmallImage(100, 100)"
   ]
  },
  {
   "cell_type": "code",
   "execution_count": 17,
   "metadata": {},
   "outputs": [
    {
     "name": "stdout",
     "output_type": "stream",
     "text": [
      "134 ns ± 7.29 ns per loop (mean ± std. dev. of 7 runs, 10000000 loops each)\n"
     ]
    }
   ],
   "source": [
    "%timeit SmallImagePython(100, 100)"
   ]
  },
  {
   "cell_type": "code",
   "execution_count": 18,
   "metadata": {},
   "outputs": [],
   "source": [
    "%%cython\n",
    "\n",
    "from cpython.mem cimport PyMem_Malloc, PyMem_Realloc, PyMem_Free\n",
    "\n",
    "cdef class SmallImageData:\n",
    "    cdef:\n",
    "        unsigned int n_rows, n_cols\n",
    "        double* _matrix\n",
    "\n",
    "    def _cinit_(self, unsigned int n_rows, unsigned int n_cols):\n",
    "        self.n_rows  = n_rows\n",
    "        self.n_cols  = n_cols\n",
    "        cdef int mem_size = n_rows * n_cols * sizeof(double)\n",
    "        self._matrix = <double*>PyMem_Malloc(mem_size)\n",
    "\n",
    "        if self._matrix == NULL:\n",
    "            raise MemoryError()\n",
    "    \n",
    "    def __dealloc__(self):\n",
    "        if self._matrix != NULL:\n",
    "            PyMem_Free(self._matrix)\n",
    "\n",
    "import numpy as np\n",
    "            \n",
    "cdef class PySmallImageData:\n",
    "    cdef:\n",
    "        unsigned int n_rows, n_cols\n",
    "\n",
    "    def _init_(self, unsigned int n_rows, unsigned int n_cols):\n",
    "        self.n_rows  = n_rows\n",
    "        self.n_cols  = n_cols\n",
    "        self._matrix = np.zeros((n_rows, n_cols), dtype=np.float64)"
   ]
  },
  {
   "cell_type": "markdown",
   "metadata": {},
   "source": [
    "It is actually faster using numpy to allocate a matrix but for non-standard data structure."
   ]
  },
  {
   "cell_type": "code",
   "execution_count": 19,
   "metadata": {},
   "outputs": [
    {
     "name": "stdout",
     "output_type": "stream",
     "text": [
      "147 ns ± 9.73 ns per loop (mean ± std. dev. of 7 runs, 10000000 loops each)\n"
     ]
    }
   ],
   "source": [
    "%timeit SmallImageData(10000, 10000)"
   ]
  },
  {
   "cell_type": "code",
   "execution_count": 20,
   "metadata": {},
   "outputs": [
    {
     "name": "stdout",
     "output_type": "stream",
     "text": [
      "127 ns ± 3.98 ns per loop (mean ± std. dev. of 7 runs, 10000000 loops each)\n"
     ]
    }
   ],
   "source": [
    "%timeit PySmallImageData(10000, 10000)"
   ]
  },
  {
   "cell_type": "markdown",
   "metadata": {},
   "source": [
    "## Subclasses"
   ]
  },
  {
   "cell_type": "markdown",
   "metadata": {},
   "source": [
    "Subclasses can be declared in cells as well put looking up a class from another class can be expensive."
   ]
  },
  {
   "cell_type": "code",
   "execution_count": 21,
   "metadata": {},
   "outputs": [],
   "source": [
    "%%cython \n",
    "\n",
    "cdef class SuperClass:\n",
    "    cdef double velocity, mass\n",
    "\n",
    "    def __cinit__(self, velocity, mass):\n",
    "        self.velocity = velocity\n",
    "        self.mass     = mass\n",
    "\n",
    "    cpdef getMomentum(self):\n",
    "        return self.velocity * self.mass\n",
    "\n",
    "cpdef dispatch(obj):\n",
    "    (<SuperClass>obj).getMomentum()\n",
    "\n",
    "def dispatch2(obj not None):\n",
    "    (<SuperClass>obj).getMomentum()\n",
    "    \n",
    "cdef class MidClass(SuperClass):\n",
    "    pass\n",
    "    \n",
    "cdef class SubClass(MidClass):\n",
    "\n",
    "    cpdef getEnergy(self):\n",
    "        return 0.5 * self.mass * self.velocity**2\n",
    "\n",
    "    cpdef getMoment(self):\n",
    "        return self.mass * self.velocity"
   ]
  },
  {
   "cell_type": "markdown",
   "metadata": {},
   "source": [
    "Sometimes we may dispatch a method to a base class as though it were the superclass. We can use casting or <i>polymorphism</i>. In this case, the presence of a middle class was enough to make dispatch viable."
   ]
  },
  {
   "cell_type": "code",
   "execution_count": 22,
   "metadata": {},
   "outputs": [],
   "source": [
    "sub_class = SubClass(1,2)"
   ]
  },
  {
   "cell_type": "code",
   "execution_count": 23,
   "metadata": {},
   "outputs": [
    {
     "name": "stdout",
     "output_type": "stream",
     "text": [
      "84.1 ns ± 13.4 ns per loop (mean ± std. dev. of 7 runs, 10000000 loops each)\n"
     ]
    }
   ],
   "source": [
    "%timeit sub_class.getMoment()"
   ]
  },
  {
   "cell_type": "code",
   "execution_count": 24,
   "metadata": {},
   "outputs": [
    {
     "name": "stdout",
     "output_type": "stream",
     "text": [
      "82 ns ± 7.38 ns per loop (mean ± std. dev. of 7 runs, 10000000 loops each)\n"
     ]
    }
   ],
   "source": [
    "%timeit sub_class.getMomentum()"
   ]
  },
  {
   "cell_type": "code",
   "execution_count": 25,
   "metadata": {},
   "outputs": [
    {
     "name": "stdout",
     "output_type": "stream",
     "text": [
      "95.5 ns ± 14.7 ns per loop (mean ± std. dev. of 7 runs, 10000000 loops each)\n"
     ]
    }
   ],
   "source": [
    "%timeit dispatch(sub_class)"
   ]
  },
  {
   "cell_type": "markdown",
   "metadata": {},
   "source": [
    "## None type safe"
   ]
  },
  {
   "cell_type": "markdown",
   "metadata": {},
   "source": [
    "The function call below when uncommented will crash the kernel. There is no proper checking involved and None is considered NULL in C++ which is an empty type. We can use dispatch2 in this case which will throw an error and stop the kernel from blowing up."
   ]
  },
  {
   "cell_type": "code",
   "execution_count": 26,
   "metadata": {},
   "outputs": [],
   "source": [
    "# dispatch(None)"
   ]
  },
  {
   "cell_type": "code",
   "execution_count": 27,
   "metadata": {},
   "outputs": [
    {
     "name": "stdout",
     "output_type": "stream",
     "text": [
      "None type caught\n"
     ]
    }
   ],
   "source": [
    "try:\n",
    "    dispatch2(None)\n",
    "except:\n",
    "    print('None type caught')"
   ]
  },
  {
   "cell_type": "markdown",
   "metadata": {},
   "source": [
    "This adds some overhead again."
   ]
  },
  {
   "cell_type": "code",
   "execution_count": 28,
   "metadata": {},
   "outputs": [
    {
     "name": "stdout",
     "output_type": "stream",
     "text": [
      "87.8 ns ± 14.1 ns per loop (mean ± std. dev. of 7 runs, 10000000 loops each)\n"
     ]
    }
   ],
   "source": [
    "%timeit dispatch2(sub_class)"
   ]
  },
  {
   "cell_type": "markdown",
   "metadata": {},
   "source": [
    "## Using a property from Cython"
   ]
  },
  {
   "cell_type": "code",
   "execution_count": 29,
   "metadata": {},
   "outputs": [],
   "source": [
    "%%cython \n",
    "\n",
    "cdef class ClassWithProperty:\n",
    "    cdef double velocity, _mass\n",
    "\n",
    "    def __cinit__(self, double velocity, double mass):\n",
    "        self.velocity = velocity\n",
    "        self._mass     = mass\n",
    "\n",
    "    property momentum:\n",
    "        def __get__(self):\n",
    "            return self.mass * self.velocity\n",
    "        \n",
    "        def __set__(self, val):\n",
    "            self.velocity = val/self.mass\n",
    "\n",
    "    property mass:\n",
    "        def __get__(self):\n",
    "            return self._mass\n",
    "        \n",
    "        def __set__(self, val):\n",
    "            self._mass = val"
   ]
  },
  {
   "cell_type": "code",
   "execution_count": 30,
   "metadata": {},
   "outputs": [],
   "source": [
    "prop = ClassWithProperty(1,2)"
   ]
  },
  {
   "cell_type": "code",
   "execution_count": 31,
   "metadata": {},
   "outputs": [
    {
     "data": {
      "text/plain": [
       "2.0"
      ]
     },
     "execution_count": 31,
     "metadata": {},
     "output_type": "execute_result"
    }
   ],
   "source": [
    "prop.momentum"
   ]
  },
  {
   "cell_type": "markdown",
   "metadata": {},
   "source": [
    "## Overloading the add operator"
   ]
  },
  {
   "cell_type": "markdown",
   "metadata": {},
   "source": [
    "The add operator in python has the <i>iadd</i> operator (inplace addition) to add something else to the class."
   ]
  },
  {
   "cell_type": "code",
   "execution_count": 86,
   "metadata": {},
   "outputs": [],
   "source": [
    "class Thing:\n",
    "    def __init__(self, value : float):\n",
    "        self.value = value\n",
    "    \n",
    "    def __add__(self, other):\n",
    "        return self.value + other.value\n",
    "    \n",
    "    def __iadd__(self, other):\n",
    "        self.value += other.value\n",
    "        return self"
   ]
  },
  {
   "cell_type": "code",
   "execution_count": 87,
   "metadata": {},
   "outputs": [],
   "source": [
    "thing1 = Thing(1)\n",
    "thing2 = Thing(2)\n",
    "thing1 += thing2"
   ]
  },
  {
   "cell_type": "code",
   "execution_count": 88,
   "metadata": {},
   "outputs": [
    {
     "data": {
      "text/plain": [
       "5"
      ]
     },
     "execution_count": 88,
     "metadata": {},
     "output_type": "execute_result"
    }
   ],
   "source": [
    "thing1 + thing2"
   ]
  },
  {
   "cell_type": "markdown",
   "metadata": {},
   "source": [
    "In Cython, you have to overload the add function to do this. In this case, overloading is much simpler."
   ]
  },
  {
   "cell_type": "code",
   "execution_count": 89,
   "metadata": {},
   "outputs": [],
   "source": [
    "%%cython\n",
    "\n",
    "cdef class Addable:\n",
    "    cdef double value\n",
    "    def __cinit__(self, double value):\n",
    "        self.value = value\n",
    "        \n",
    "    def __add__(x, y):\n",
    "        if isinstance(x, Addable) and isinstance(y, float):\n",
    "            return (<Addable>x).value + y\n",
    "        elif isinstance(y, Addable) and isinstance(x, float):\n",
    "            return (<Addable>y).value + x\n",
    "        elif isinstance(x, Addable) and isinstance(y, Addable):\n",
    "            return (<Addable>y).value + (<Addable>x).value\n",
    "        else:\n",
    "            return NotImplemented"
   ]
  },
  {
   "cell_type": "code",
   "execution_count": 90,
   "metadata": {},
   "outputs": [],
   "source": [
    "addy1 = Addable(1)\n",
    "addy2 = Addable(2)"
   ]
  },
  {
   "cell_type": "markdown",
   "metadata": {},
   "source": [
    "Cython is pretty forgiving when an integer is supplied instead of a float."
   ]
  },
  {
   "cell_type": "code",
   "execution_count": 91,
   "metadata": {},
   "outputs": [
    {
     "data": {
      "text/plain": [
       "7.0"
      ]
     },
     "execution_count": 91,
     "metadata": {},
     "output_type": "execute_result"
    }
   ],
   "source": [
    "addy1 + addy2 + 4"
   ]
  },
  {
   "cell_type": "code",
   "execution_count": 92,
   "metadata": {},
   "outputs": [
    {
     "name": "stdout",
     "output_type": "stream",
     "text": [
      "The addable class does not know about lists.\n"
     ]
    }
   ],
   "source": [
    "try:\n",
    "    addy1 + []\n",
    "except:\n",
    "    print('The addable class does not know about lists.')"
   ]
  },
  {
   "cell_type": "markdown",
   "metadata": {},
   "source": [
    "## Comparison operations"
   ]
  },
  {
   "cell_type": "markdown",
   "metadata": {},
   "source": [
    "The enum does not seem to be available. There is a way of making comparisons in cython instead of using all the magic functions."
   ]
  },
  {
   "cell_type": "code",
   "execution_count": 107,
   "metadata": {},
   "outputs": [],
   "source": [
    "%%cython\n",
    "\n",
    "cdef class Comparison:\n",
    "    cdef readonly double value\n",
    "    def __cinit__(self, double value):\n",
    "        self.value = value\n",
    "    \n",
    "    def __richcmp__(x, y, int op):\n",
    "        cdef double x_val = (<Comparison>x).value if isinstance(x, Comparison) else x\n",
    "        cdef double y_val = (<Comparison>y).value if isinstance(y, Comparison) else y\n",
    "        \n",
    "        if op == 0:\n",
    "            return x_val < y_val\n",
    "        elif op == 1:\n",
    "            return x_val <= y_val\n",
    "        elif op == 2:\n",
    "            return x_val == y_val\n",
    "        elif op == 3:\n",
    "            return x_val != y_val\n",
    "        elif op == 4:\n",
    "            return x_val > y_val\n",
    "        elif op == 5:\n",
    "            return x_val >= y_val\n",
    "        else:\n",
    "            assert False"
   ]
  },
  {
   "cell_type": "code",
   "execution_count": 108,
   "metadata": {},
   "outputs": [],
   "source": [
    "c1 = Comparison(1)\n",
    "c2 = Comparison(2)"
   ]
  },
  {
   "cell_type": "code",
   "execution_count": 109,
   "metadata": {},
   "outputs": [
    {
     "data": {
      "text/plain": [
       "True"
      ]
     },
     "execution_count": 109,
     "metadata": {},
     "output_type": "execute_result"
    }
   ],
   "source": [
    "c1 < c2"
   ]
  },
  {
   "cell_type": "code",
   "execution_count": 110,
   "metadata": {},
   "outputs": [
    {
     "data": {
      "text/plain": [
       "True"
      ]
     },
     "execution_count": 110,
     "metadata": {},
     "output_type": "execute_result"
    }
   ],
   "source": [
    "c1 <= c2"
   ]
  },
  {
   "cell_type": "code",
   "execution_count": 111,
   "metadata": {},
   "outputs": [
    {
     "data": {
      "text/plain": [
       "False"
      ]
     },
     "execution_count": 111,
     "metadata": {},
     "output_type": "execute_result"
    }
   ],
   "source": [
    "c1 == c2"
   ]
  },
  {
   "cell_type": "code",
   "execution_count": 112,
   "metadata": {},
   "outputs": [
    {
     "data": {
      "text/plain": [
       "True"
      ]
     },
     "execution_count": 112,
     "metadata": {},
     "output_type": "execute_result"
    }
   ],
   "source": [
    "c1 != c2"
   ]
  },
  {
   "cell_type": "code",
   "execution_count": 113,
   "metadata": {},
   "outputs": [
    {
     "data": {
      "text/plain": [
       "False"
      ]
     },
     "execution_count": 113,
     "metadata": {},
     "output_type": "execute_result"
    }
   ],
   "source": [
    "c1 > c2"
   ]
  },
  {
   "cell_type": "code",
   "execution_count": 114,
   "metadata": {},
   "outputs": [
    {
     "data": {
      "text/plain": [
       "False"
      ]
     },
     "execution_count": 114,
     "metadata": {},
     "output_type": "execute_result"
    }
   ],
   "source": [
    "c1 >= c2"
   ]
  },
  {
   "cell_type": "code",
   "execution_count": 115,
   "metadata": {},
   "outputs": [],
   "source": [
    "d1 = {'value': 1}\n",
    "d2 = {'value': 2}"
   ]
  },
  {
   "cell_type": "code",
   "execution_count": 116,
   "metadata": {},
   "outputs": [
    {
     "name": "stdout",
     "output_type": "stream",
     "text": [
      "81.5 ns ± 5.51 ns per loop (mean ± std. dev. of 7 runs, 10000000 loops each)\n"
     ]
    }
   ],
   "source": [
    "%timeit c1 >= c2"
   ]
  },
  {
   "cell_type": "code",
   "execution_count": 117,
   "metadata": {},
   "outputs": [
    {
     "name": "stdout",
     "output_type": "stream",
     "text": [
      "89 ns ± 9.22 ns per loop (mean ± std. dev. of 7 runs, 10000000 loops each)\n"
     ]
    }
   ],
   "source": [
    "%timeit c1 < c2"
   ]
  },
  {
   "cell_type": "code",
   "execution_count": 119,
   "metadata": {},
   "outputs": [
    {
     "name": "stdout",
     "output_type": "stream",
     "text": [
      "179 ns ± 31.6 ns per loop (mean ± std. dev. of 7 runs, 1000000 loops each)\n"
     ]
    }
   ],
   "source": [
    "%timeit d1['value'] < d2['value']"
   ]
  },
  {
   "cell_type": "code",
   "execution_count": 120,
   "metadata": {},
   "outputs": [
    {
     "name": "stdout",
     "output_type": "stream",
     "text": [
      "173 ns ± 25.8 ns per loop (mean ± std. dev. of 7 runs, 1000000 loops each)\n"
     ]
    }
   ],
   "source": [
    "%timeit d1['value'] >= d2['value']"
   ]
  },
  {
   "cell_type": "markdown",
   "metadata": {},
   "source": [
    "## Iterators"
   ]
  },
  {
   "cell_type": "code",
   "execution_count": 133,
   "metadata": {},
   "outputs": [],
   "source": [
    "%%cython\n",
    "\n",
    "cdef class Iterator:\n",
    "    cdef readonly list data\n",
    "    cdef readonly int length\n",
    "    \n",
    "    def __cinit__(self, data):\n",
    "        self.data = data\n",
    "        self.length = len(data)\n",
    "    \n",
    "    def __len__(self):\n",
    "        return len(self.data)\n",
    "    \n",
    "    def __iter__(self):\n",
    "        cdef int i\n",
    "        for i in range(self.length):\n",
    "            yield self.data[i]\n",
    "    \n",
    "    cpdef printIter(self):\n",
    "        for value in self:\n",
    "            print(value)"
   ]
  },
  {
   "cell_type": "code",
   "execution_count": 134,
   "metadata": {},
   "outputs": [],
   "source": [
    "it = Iterator([1,2,3])"
   ]
  },
  {
   "cell_type": "code",
   "execution_count": 135,
   "metadata": {},
   "outputs": [
    {
     "name": "stdout",
     "output_type": "stream",
     "text": [
      "1\n",
      "2\n",
      "3\n"
     ]
    }
   ],
   "source": [
    "for value in it: print(value)"
   ]
  },
  {
   "cell_type": "code",
   "execution_count": 136,
   "metadata": {},
   "outputs": [
    {
     "name": "stdout",
     "output_type": "stream",
     "text": [
      "1\n",
      "2\n",
      "3\n"
     ]
    }
   ],
   "source": [
    "it.printIter()"
   ]
  }
 ],
 "metadata": {
  "kernelspec": {
   "display_name": "Python 3",
   "language": "python",
   "name": "python3"
  },
  "language_info": {
   "codemirror_mode": {
    "name": "ipython",
    "version": 3
   },
   "file_extension": ".py",
   "mimetype": "text/x-python",
   "name": "python",
   "nbconvert_exporter": "python",
   "pygments_lexer": "ipython3",
   "version": "3.8.5"
  }
 },
 "nbformat": 4,
 "nbformat_minor": 4
}
