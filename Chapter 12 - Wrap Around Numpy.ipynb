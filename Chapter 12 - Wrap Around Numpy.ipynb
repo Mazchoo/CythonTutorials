{
 "cells": [
  {
   "cell_type": "code",
   "execution_count": 1,
   "id": "58fde0b0",
   "metadata": {},
   "outputs": [],
   "source": [
    "%load_ext cython"
   ]
  },
  {
   "cell_type": "code",
   "execution_count": 2,
   "id": "6b777fa1",
   "metadata": {},
   "outputs": [],
   "source": [
    "import numpy as np"
   ]
  },
  {
   "cell_type": "markdown",
   "id": "36a93062",
   "metadata": {},
   "source": [
    "Let us start by looking at a normal numpy array. Normal summation is relatively fast but operating on every index with a custom operation is relatively slow."
   ]
  },
  {
   "cell_type": "code",
   "execution_count": 3,
   "id": "0e3ecc8a",
   "metadata": {},
   "outputs": [],
   "source": [
    "arr = np.arange(8000, dtype=np.dtype(\"i\")).reshape((20, 20, 20))"
   ]
  },
  {
   "cell_type": "code",
   "execution_count": 4,
   "id": "9b2bdff9",
   "metadata": {},
   "outputs": [],
   "source": [
    "def sumArray(arr):\n",
    "    total = 0\n",
    "    for i in range(arr.shape[0]):\n",
    "        for j in range(arr.shape[1]):\n",
    "            for k in range(arr.shape[2]):\n",
    "                total += arr[i][j][k]"
   ]
  },
  {
   "cell_type": "code",
   "execution_count": 5,
   "id": "45ac0bef",
   "metadata": {},
   "outputs": [
    {
     "name": "stdout",
     "output_type": "stream",
     "text": [
      "3.12 ms ± 97 µs per loop (mean ± std. dev. of 7 runs, 100 loops each)\n"
     ]
    }
   ],
   "source": [
    "%timeit sumArray(arr)"
   ]
  },
  {
   "cell_type": "code",
   "execution_count": 6,
   "id": "dd2c3a0c",
   "metadata": {},
   "outputs": [
    {
     "name": "stdout",
     "output_type": "stream",
     "text": [
      "4.91 µs ± 157 ns per loop (mean ± std. dev. of 7 runs, 100000 loops each)\n"
     ]
    }
   ],
   "source": [
    "%timeit arr.sum()"
   ]
  },
  {
   "cell_type": "markdown",
   "id": "f7b0fa94",
   "metadata": {},
   "source": [
    "We have a 32 bit integer type."
   ]
  },
  {
   "cell_type": "code",
   "execution_count": 7,
   "id": "f4f835d8",
   "metadata": {},
   "outputs": [
    {
     "data": {
      "text/plain": [
       "4"
      ]
     },
     "execution_count": 7,
     "metadata": {},
     "output_type": "execute_result"
    }
   ],
   "source": [
    "arr.itemsize"
   ]
  },
  {
   "cell_type": "markdown",
   "id": "2440645a",
   "metadata": {},
   "source": [
    "# Reading from a numpy array"
   ]
  },
  {
   "cell_type": "code",
   "execution_count": 8,
   "id": "ed86ab86",
   "metadata": {},
   "outputs": [],
   "source": [
    "%%cython\n",
    "#distutils: language=c++\n",
    "\n",
    "cimport numpy as np\n",
    "import numpy as np\n",
    "\n",
    "narr = np.arange(27, dtype=np.dtype(\"i\")).reshape((3, 3, 3))\n",
    "cdef int [:, :, :] narr_view = narr\n",
    "\n",
    "cpdef convertNumpyArray(np.ndarray[np.int32_t, ndim=3] arr):\n",
    "    cdef int[:, :, :] np_view = arr\n",
    "    return np_view\n",
    "\n",
    "cpdef int convertNumpyArrayAndIndex(np.ndarray[np.int32_t, ndim=3] arr):\n",
    "    cdef:\n",
    "        int[:] np_view = arr.flatten()\n",
    "        int total = 0\n",
    "        int length = arr.shape[0] * arr.shape[1] * arr.shape[2]\n",
    "    \n",
    "    for i in range(length):\n",
    "        total += np_view[i]\n",
    "    return total"
   ]
  },
  {
   "cell_type": "markdown",
   "id": "48ea9c13",
   "metadata": {},
   "source": [
    "The actual copying over seems trivial in speed."
   ]
  },
  {
   "cell_type": "code",
   "execution_count": 9,
   "id": "e74d3c6a",
   "metadata": {},
   "outputs": [
    {
     "name": "stdout",
     "output_type": "stream",
     "text": [
      "945 ns ± 55.5 ns per loop (mean ± std. dev. of 7 runs, 1000000 loops each)\n"
     ]
    }
   ],
   "source": [
    "%timeit convertNumpyArray(arr)"
   ]
  },
  {
   "cell_type": "markdown",
   "id": "f3906cee",
   "metadata": {},
   "source": [
    "There is some overhead in operating on the array. There is some speed gain from flattening the array."
   ]
  },
  {
   "cell_type": "code",
   "execution_count": 10,
   "id": "adc1952a",
   "metadata": {},
   "outputs": [
    {
     "name": "stdout",
     "output_type": "stream",
     "text": [
      "8.82 µs ± 155 ns per loop (mean ± std. dev. of 7 runs, 100000 loops each)\n"
     ]
    }
   ],
   "source": [
    "%timeit convertNumpyArrayAndIndex(arr)"
   ]
  },
  {
   "cell_type": "markdown",
   "id": "f8a0bb83",
   "metadata": {},
   "source": [
    "## Create a memory view of a C array"
   ]
  },
  {
   "cell_type": "code",
   "execution_count": 11,
   "id": "abb1e92e",
   "metadata": {},
   "outputs": [],
   "source": [
    "%%cython\n",
    "#distutils: language=c++\n",
    "\n",
    "from cython.view cimport array as cvarray\n",
    "import random\n",
    "\n",
    "cpdef DeclareAndIndexCyArray(int height, int width, int depth):\n",
    "    cyarr = cvarray(shape=(height, width, depth), itemsize=sizeof(int), format=\"i\")\n",
    "    cdef int [:, :, :] cyarr_view = cyarr\n",
    "\n",
    "    cdef int i, j, k, total\n",
    "    total = 0\n",
    "    for i in range(height):\n",
    "        for j in range(width):\n",
    "            for k in range(depth):\n",
    "                total += cyarr_view[i][j][k]\n",
    "    return total\n",
    "\n",
    "\n",
    "cpdef int CopyIntoAndIndexCyArray(int height, int width, int depth, arr):\n",
    "    cyarr = cvarray(shape=(height, width, depth), itemsize=sizeof(int), format=\"i\")\n",
    "    cyarr = arr\n",
    "\n",
    "    cdef int i, j, k, total\n",
    "    total = 0\n",
    "    for i in range(height):\n",
    "        for j in range(width):\n",
    "            for k in range(depth):\n",
    "                total += cyarr[i][j][k]\n",
    "    return total"
   ]
  },
  {
   "cell_type": "markdown",
   "id": "c9601bd8",
   "metadata": {},
   "source": [
    "We can of course save time by declaring the array in Cython. This stops the copying from cython from numpy."
   ]
  },
  {
   "cell_type": "code",
   "execution_count": 12,
   "id": "125ebd34",
   "metadata": {},
   "outputs": [
    {
     "name": "stdout",
     "output_type": "stream",
     "text": [
      "14.6 µs ± 108 ns per loop (mean ± std. dev. of 7 runs, 100000 loops each)\n"
     ]
    }
   ],
   "source": [
    "%timeit DeclareAndIndexCyArray(20, 20, 20)"
   ]
  },
  {
   "cell_type": "markdown",
   "id": "382c3d09",
   "metadata": {},
   "source": [
    "Copying into the Cython array is slow."
   ]
  },
  {
   "cell_type": "code",
   "execution_count": 13,
   "id": "ccba30ad",
   "metadata": {},
   "outputs": [
    {
     "name": "stdout",
     "output_type": "stream",
     "text": [
      "2.83 ms ± 160 µs per loop (mean ± std. dev. of 7 runs, 100 loops each)\n"
     ]
    }
   ],
   "source": [
    "%timeit CopyIntoAndIndexCyArray(20, 20, 20, arr)"
   ]
  },
  {
   "cell_type": "code",
   "execution_count": 14,
   "id": "83229b99",
   "metadata": {},
   "outputs": [],
   "source": [
    "%%cython\n",
    "#distutils: language=c++\n",
    "\n",
    "from cython.view cimport array as cvarray\n",
    "\n",
    "cpdef DeclareAndIndexCArray():\n",
    "    cdef int c_arr[20][20][20]\n",
    "\n",
    "    cdef int i, j, k, total\n",
    "    total = 0\n",
    "    for i in range(20):\n",
    "        for j in range(20):\n",
    "            for k in range(20):\n",
    "                total += c_arr[i][j][k]\n",
    "    return total"
   ]
  },
  {
   "cell_type": "markdown",
   "id": "2f4b80ff",
   "metadata": {},
   "source": [
    "With a constant array, we can find much faster computation (this could be constant optimisation)."
   ]
  },
  {
   "cell_type": "code",
   "execution_count": 15,
   "id": "323b3a2a",
   "metadata": {},
   "outputs": [
    {
     "name": "stdout",
     "output_type": "stream",
     "text": [
      "883 ns ± 9.19 ns per loop (mean ± std. dev. of 7 runs, 1000000 loops each)\n"
     ]
    }
   ],
   "source": [
    "%timeit DeclareAndIndexCArray()"
   ]
  },
  {
   "cell_type": "code",
   "execution_count": 16,
   "id": "14005b39",
   "metadata": {},
   "outputs": [],
   "source": [
    "%%cython\n",
    "#distutils: language=c++\n",
    "\n",
    "cimport numpy as cnp\n",
    "cimport numpy as np\n",
    "import numpy as np\n",
    "\n",
    "cpdef int ReadAndSumarizeUsingCNumpy(np.ndarray[np.int32_t, ndim=3] arr):\n",
    "    cdef cnp.int32_t[:] a = arr.flatten()\n",
    "    \n",
    "    cdef:\n",
    "        int i\n",
    "        int length = arr.shape[0] * arr.shape[1] * arr.shape[2]\n",
    "        int total = 0\n",
    "\n",
    "    for i in range(length):\n",
    "        total += a[i]\n",
    "    return total"
   ]
  },
  {
   "cell_type": "markdown",
   "id": "bad7b05c",
   "metadata": {},
   "source": [
    "Using a c numpy array is slightly faster than using a memory view."
   ]
  },
  {
   "cell_type": "code",
   "execution_count": 17,
   "id": "d52d88f6",
   "metadata": {},
   "outputs": [
    {
     "name": "stdout",
     "output_type": "stream",
     "text": [
      "7.46 µs ± 156 ns per loop (mean ± std. dev. of 7 runs, 100000 loops each)\n"
     ]
    }
   ],
   "source": [
    "%timeit ReadAndSumarizeUsingCNumpy(arr)"
   ]
  },
  {
   "cell_type": "markdown",
   "id": "7957cc30",
   "metadata": {},
   "source": [
    "We have acheived nearly the speed of decalring the whole thing in Cython by using a pointer. There are extra checks that need to be done and the array may need redeclaring. Outputing the variable here will crach the kernel which indicates that this was not intended to be used."
   ]
  },
  {
   "cell_type": "code",
   "execution_count": 24,
   "id": "11bab4c8",
   "metadata": {},
   "outputs": [],
   "source": [
    "%%cython\n",
    "#distutils: language=c++\n",
    "\n",
    "cimport numpy as np\n",
    "import numpy as np\n",
    "from cython cimport boundscheck, wraparound\n",
    "\n",
    "\n",
    "@boundscheck(False)\n",
    "@wraparound(False)\n",
    "cpdef GetContiguousArray(np.ndarray[np.int32_t, ndim=3] arr):\n",
    "    if not arr.flags['C_CONTIGUOUS']:\n",
    "        arr = np.ascontiguousarray(arr) # Makes a contiguous copy of the numpy array.\n",
    "    return arr\n",
    "\n",
    "\n",
    "@boundscheck(False)\n",
    "@wraparound(False)\n",
    "cpdef int UsePointerToSummaryArray(np.ndarray[np.int32_t, ndim=3] arr):\n",
    "    \n",
    "    cdef:\n",
    "        int[:, :, :] np_view = GetContiguousArray(arr)\n",
    "        int* ptr = &np_view[0][0][0]\n",
    "        int i, total\n",
    "        int length = len(np_view)\n",
    "    \n",
    "    total = 0\n",
    "    for i in range(arr.shape[0] * arr.shape[1] * arr.shape[2]):\n",
    "        total += ptr[i]\n",
    "        \n",
    "    return total"
   ]
  },
  {
   "cell_type": "markdown",
   "id": "f408b822",
   "metadata": {},
   "source": [
    "If you malloc a pointer and use it in a way that returns something then the kernel will crash. Using a pointer directly to the underlying view is actually faster than the inbuilt numpy sum."
   ]
  },
  {
   "cell_type": "markdown",
   "id": "420c7cd0",
   "metadata": {},
   "source": [
    "You can pass a pointer to a pure C function. You can pass a reference to an element in a memory view."
   ]
  },
  {
   "cell_type": "code",
   "execution_count": 25,
   "id": "60f1166f",
   "metadata": {},
   "outputs": [
    {
     "name": "stdout",
     "output_type": "stream",
     "text": [
      "1.39 µs ± 17.6 ns per loop (mean ± std. dev. of 7 runs, 1000000 loops each)\n"
     ]
    }
   ],
   "source": [
    "%timeit UsePointerToSummaryArray(arr)"
   ]
  },
  {
   "cell_type": "code",
   "execution_count": 26,
   "id": "769cce2d",
   "metadata": {},
   "outputs": [
    {
     "data": {
      "text/plain": [
       "31996000"
      ]
     },
     "execution_count": 26,
     "metadata": {},
     "output_type": "execute_result"
    }
   ],
   "source": [
    "UsePointerToSummaryArray(arr)"
   ]
  },
  {
   "cell_type": "markdown",
   "id": "ccb39679",
   "metadata": {},
   "source": [
    "# Using External C++ code to do a sum"
   ]
  },
  {
   "cell_type": "code",
   "execution_count": 27,
   "id": "916ce32f",
   "metadata": {},
   "outputs": [],
   "source": [
    "%%cython\n",
    "#distutils: language=c++\n",
    "#distutils: include_dirs=D:/Programming/Python/Cython/CythonBuild\n",
    "\n",
    "cimport numpy as np\n",
    "import numpy as np\n",
    "from cython cimport boundscheck, wraparound\n",
    "\n",
    "\n",
    "cdef extern from 'SumArray.hpp':\n",
    "    cdef int sumArray(int*, int)\n",
    "\n",
    "\n",
    "@boundscheck(False)\n",
    "@wraparound(False)\n",
    "cpdef GetContiguousArray(np.ndarray[np.int32_t, ndim=3] arr):\n",
    "    if not arr.flags['C_CONTIGUOUS']:\n",
    "        arr = np.ascontiguousarray(arr) # Makes a contiguous copy of the numpy array.\n",
    "    return arr\n",
    "\n",
    "\n",
    "@boundscheck(False)\n",
    "@wraparound(False)\n",
    "cpdef int UseExternalCToSumArray(np.ndarray[np.int32_t, ndim=3] arr):\n",
    "    \n",
    "    cdef:\n",
    "        int[:, :, :] np_view = GetContiguousArray(arr)\n",
    "        int* ptr = &np_view[0][0][0]\n",
    "        int length = arr.shape[0] * arr.shape[1] * arr.shape[2]\n",
    "        \n",
    "    return sumArray(ptr, length)"
   ]
  },
  {
   "cell_type": "markdown",
   "id": "04731ee6",
   "metadata": {},
   "source": [
    "Using external C is also fast but does have some more communication overhead. This is still faster than the default sum and  faster than the pure cython pointer implemetation. It can be sped up to just more than a millisecond with no contiguous checking. There could be nearly 1ms without the memory view conversion as shown earlier so still cannot compete with pure C."
   ]
  },
  {
   "cell_type": "code",
   "execution_count": 28,
   "id": "a7dd9844",
   "metadata": {},
   "outputs": [
    {
     "name": "stdout",
     "output_type": "stream",
     "text": [
      "1.31 µs ± 17 ns per loop (mean ± std. dev. of 7 runs, 1000000 loops each)\n"
     ]
    }
   ],
   "source": [
    "%timeit UseExternalCToSumArray(arr)"
   ]
  },
  {
   "cell_type": "code",
   "execution_count": 29,
   "id": "5f9e6a1a",
   "metadata": {},
   "outputs": [
    {
     "data": {
      "text/plain": [
       "31996000"
      ]
     },
     "execution_count": 29,
     "metadata": {},
     "output_type": "execute_result"
    }
   ],
   "source": [
    "UseExternalCToSumArray(arr)"
   ]
  }
 ],
 "metadata": {
  "kernelspec": {
   "display_name": "Python 3 (ipykernel)",
   "language": "python",
   "name": "python3"
  },
  "language_info": {
   "codemirror_mode": {
    "name": "ipython",
    "version": 3
   },
   "file_extension": ".py",
   "mimetype": "text/x-python",
   "name": "python",
   "nbconvert_exporter": "python",
   "pygments_lexer": "ipython3",
   "version": "3.8.5"
  }
 },
 "nbformat": 4,
 "nbformat_minor": 5
}
