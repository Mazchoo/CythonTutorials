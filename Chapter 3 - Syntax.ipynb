{
 "cells": [
  {
   "cell_type": "code",
   "execution_count": 1,
   "metadata": {},
   "outputs": [],
   "source": [
    "%load_ext cython"
   ]
  },
  {
   "cell_type": "markdown",
   "metadata": {},
   "source": [
    "## Using pointers"
   ]
  },
  {
   "cell_type": "code",
   "execution_count": 2,
   "metadata": {},
   "outputs": [],
   "source": [
    "%%cython\n",
    "\n",
    "cpdef exampleWithPoints(int x):\n",
    "    cdef int *ptr_1\n",
    "    cdef int *ptr_2 = ptr_1\n",
    "\n",
    "    ptr_1[0] = x\n",
    "    print(ptr_2[0])"
   ]
  },
  {
   "cell_type": "code",
   "execution_count": 3,
   "metadata": {},
   "outputs": [
    {
     "name": "stdout",
     "output_type": "stream",
     "text": [
      "3\n"
     ]
    }
   ],
   "source": [
    "exampleWithPoints(3)"
   ]
  },
  {
   "cell_type": "markdown",
   "metadata": {},
   "source": [
    "## Using stack arrays"
   ]
  },
  {
   "cell_type": "code",
   "execution_count": 4,
   "metadata": {},
   "outputs": [],
   "source": [
    "%%cython\n",
    "\n",
    "cpdef printArray(int x):\n",
    "    cdef int arr[3]\n",
    "    cdef int i\n",
    "    for i in range(3):\n",
    "        arr[i] = x + i\n",
    "    print(arr)"
   ]
  },
  {
   "cell_type": "code",
   "execution_count": 5,
   "metadata": {},
   "outputs": [
    {
     "name": "stdout",
     "output_type": "stream",
     "text": [
      "[7, 8, 9]\n"
     ]
    }
   ],
   "source": [
    "printArray(7)"
   ]
  },
  {
   "cell_type": "markdown",
   "metadata": {},
   "source": [
    "## Create a function pointer"
   ]
  },
  {
   "cell_type": "code",
   "execution_count": 6,
   "metadata": {},
   "outputs": [],
   "source": [
    "%%cython\n",
    "\n",
    "cimport libc.math\n",
    "\n",
    "cdef double funcExample(double x, int y):\n",
    "    return libc.math.pow(x, y)\n",
    "\n",
    "cpdef useFuncPointer(double x, int y):\n",
    "    cdef double (*f)(double, int)\n",
    "    f = &funcExample\n",
    "    print(f(x,y))"
   ]
  },
  {
   "cell_type": "code",
   "execution_count": 7,
   "metadata": {},
   "outputs": [
    {
     "name": "stdout",
     "output_type": "stream",
     "text": [
      "9.0\n"
     ]
    }
   ],
   "source": [
    "useFuncPointer(3., 2)"
   ]
  },
  {
   "cell_type": "markdown",
   "metadata": {},
   "source": [
    "## Multiple definitions"
   ]
  },
  {
   "cell_type": "code",
   "execution_count": 8,
   "metadata": {},
   "outputs": [],
   "source": [
    "%%cython\n",
    "\n",
    "def multipleDeclarations():\n",
    "    cdef:\n",
    "        complex c = 3 +4j\n",
    "        double d  = 3.0\n",
    "        int     i = 2\n",
    "        long    j = 3\n",
    "    print(c,d,i,j)"
   ]
  },
  {
   "cell_type": "code",
   "execution_count": 9,
   "metadata": {},
   "outputs": [
    {
     "name": "stdout",
     "output_type": "stream",
     "text": [
      "(3+4j) 3.0 2 3\n"
     ]
    }
   ],
   "source": [
    "multipleDeclarations()"
   ]
  },
  {
   "cell_type": "markdown",
   "metadata": {},
   "source": [
    "## Double Pointers"
   ]
  },
  {
   "cell_type": "code",
   "execution_count": 10,
   "metadata": {},
   "outputs": [],
   "source": [
    "%%cython\n",
    "\n",
    "cpdef doublePointer(int x):\n",
    "    cdef int *ptr\n",
    "    cdef int **ptr_ptr\n",
    "\n",
    "    ptr_ptr = &ptr\n",
    "    ptr = &x\n",
    "    print(ptr_ptr[0][0])\n",
    "    print(\"The deferencing that can be done in C++ with * cannot be done.\")\n",
    "    print(\"This would confuse *args and **kwargs syntax already supported in python.\")"
   ]
  },
  {
   "cell_type": "code",
   "execution_count": 11,
   "metadata": {},
   "outputs": [
    {
     "name": "stdout",
     "output_type": "stream",
     "text": [
      "3\n",
      "The deferencing that can be done in C++ with * cannot be done.\n",
      "This would confuse *args and **kwargs syntax already supported in python.\n"
     ]
    }
   ],
   "source": [
    "doublePointer(3)"
   ]
  },
  {
   "cell_type": "markdown",
   "metadata": {},
   "source": [
    "We can also use char pointers for image arrays."
   ]
  },
  {
   "cell_type": "code",
   "execution_count": 12,
   "metadata": {},
   "outputs": [],
   "source": [
    "%%cython\n",
    "\n",
    "cpdef cythonDeference(char x):\n",
    "    cdef char* char_ptr\n",
    "    char_ptr = &x\n",
    "    print(char_ptr[0])\n",
    "    \n",
    "cpdef printCStyleArray(char* x, int arr_len):\n",
    "    cdef int i\n",
    "    for i in range(arr_len):\n",
    "        print(x[i])"
   ]
  },
  {
   "cell_type": "code",
   "execution_count": 13,
   "metadata": {},
   "outputs": [],
   "source": [
    "import numpy as np"
   ]
  },
  {
   "cell_type": "code",
   "execution_count": 14,
   "metadata": {},
   "outputs": [],
   "source": [
    "arr = np.array([[0,1],[2,3]], dtype=np.uint8)"
   ]
  },
  {
   "cell_type": "code",
   "execution_count": 15,
   "metadata": {},
   "outputs": [
    {
     "data": {
      "text/plain": [
       "b'\\x00\\x01\\x02\\x03'"
      ]
     },
     "execution_count": 15,
     "metadata": {},
     "output_type": "execute_result"
    }
   ],
   "source": [
    "arr.tobytes()"
   ]
  },
  {
   "cell_type": "code",
   "execution_count": 16,
   "metadata": {},
   "outputs": [
    {
     "name": "stdout",
     "output_type": "stream",
     "text": [
      "0\n",
      "1\n",
      "2\n",
      "3\n"
     ]
    }
   ],
   "source": [
    "printCStyleArray(arr.tobytes(), 4)"
   ]
  },
  {
   "cell_type": "code",
   "execution_count": 17,
   "metadata": {},
   "outputs": [
    {
     "data": {
      "text/plain": [
       "b'\\x00\\x01\\x02\\x03'"
      ]
     },
     "execution_count": 17,
     "metadata": {},
     "output_type": "execute_result"
    }
   ],
   "source": [
    "arr.tobytes()"
   ]
  },
  {
   "cell_type": "markdown",
   "metadata": {},
   "source": [
    "## Declaring Python types using cdef"
   ]
  },
  {
   "cell_type": "code",
   "execution_count": 18,
   "metadata": {},
   "outputs": [],
   "source": [
    "%%cython\n",
    "\n",
    "cpdef declarePythonTypes():\n",
    "    cdef list a_list = []\n",
    "    cdef dict a_dict = {}\n",
    "    cdef str a_str = ''\n",
    "    cdef set a_set = {'Dude'}\n",
    "    \n",
    "    a_list.append('I')\n",
    "    a_dict['am'] = 'a'\n",
    "    a_str += 'silly'\n",
    "    \n",
    "    print(a_list, a_dict, a_str, a_set)"
   ]
  },
  {
   "cell_type": "code",
   "execution_count": 19,
   "metadata": {},
   "outputs": [
    {
     "name": "stdout",
     "output_type": "stream",
     "text": [
      "['I'] {'am': 'a'} silly {'Dude'}\n"
     ]
    }
   ],
   "source": [
    "declarePythonTypes()"
   ]
  },
  {
   "cell_type": "markdown",
   "metadata": {},
   "source": [
    "## Different modulus operations"
   ]
  },
  {
   "cell_type": "code",
   "execution_count": 20,
   "metadata": {},
   "outputs": [],
   "source": [
    "%%cython\n",
    "\n",
    "cpdef cythonModulus(int x, int y):\n",
    "    print(x % y)\n",
    "    print('C modulus takes negative numbers to negative numbers')\n",
    "    \n",
    "cpdef cythonCDivision(int x, int y):\n",
    "    print(y // x)\n",
    "    print('@cython.cdivision(True)')"
   ]
  },
  {
   "cell_type": "code",
   "execution_count": 21,
   "metadata": {},
   "outputs": [
    {
     "name": "stdout",
     "output_type": "stream",
     "text": [
      "2\n",
      "C modulus takes negative numbers to negative numbers\n"
     ]
    }
   ],
   "source": [
    "cythonModulus(-1, 3)"
   ]
  },
  {
   "cell_type": "code",
   "execution_count": 22,
   "metadata": {},
   "outputs": [
    {
     "name": "stdout",
     "output_type": "stream",
     "text": [
      "1\n",
      "@cython.cdivision(True)\n"
     ]
    }
   ],
   "source": [
    "cythonCDivision(2,3)"
   ]
  },
  {
   "cell_type": "markdown",
   "metadata": {},
   "source": [
    "## Inline function"
   ]
  },
  {
   "cell_type": "markdown",
   "metadata": {},
   "source": [
    "The `inline` key word is a suggestion to the compiler to remove the function completely and replace it with the function body."
   ]
  },
  {
   "cell_type": "code",
   "execution_count": 23,
   "metadata": {},
   "outputs": [],
   "source": [
    "%%cython\n",
    "\n",
    "cimport libc.math\n",
    "\n",
    "cdef inline float binomial(int n, int m, float p):\n",
    "    return libc.math.pow(p, n) * libc.math.pow(1-p, m-n)\n",
    "\n",
    "cpdef list allBignomes(int m, float p):\n",
    "    cdef list arr = [0] * (m+1)\n",
    "    cdef int i\n",
    "    for i in range(m+1):\n",
    "        arr[i] = binomial(i, m, p)\n",
    "        \n",
    "    return arr"
   ]
  },
  {
   "cell_type": "markdown",
   "metadata": {},
   "source": [
    "## Structs and Unions"
   ]
  },
  {
   "cell_type": "code",
   "execution_count": 28,
   "metadata": {},
   "outputs": [],
   "source": [
    "%%cython\n",
    "\n",
    "cdef struct my_cpx:\n",
    "    float real\n",
    "    float img\n",
    "    \n",
    "cdef union uu:\n",
    "    int a\n",
    "    short b,c\n",
    "    \n",
    "cpdef dict createComplex(float x, float y):\n",
    "    print(\"Structures are converted into complex numbers.\")\n",
    "    return my_cpx(x, y)"
   ]
  },
  {
   "cell_type": "code",
   "execution_count": 29,
   "metadata": {},
   "outputs": [
    {
     "name": "stdout",
     "output_type": "stream",
     "text": [
      "Structures are converted into complex numbers.\n"
     ]
    },
    {
     "data": {
      "text/plain": [
       "{'real': 1.0, 'img': 2.0}"
      ]
     },
     "execution_count": 29,
     "metadata": {},
     "output_type": "execute_result"
    }
   ],
   "source": [
    "createComplex(1., 2.)"
   ]
  },
  {
   "cell_type": "markdown",
   "metadata": {},
   "source": [
    "## Nested Structures"
   ]
  },
  {
   "cell_type": "code",
   "execution_count": 31,
   "metadata": {},
   "outputs": [],
   "source": [
    "%%cython\n",
    "\n",
    "cdef struct _inner: # underscore makes this private\n",
    "    int inner_a\n",
    "\n",
    "cdef struct nested:\n",
    "    int outer_a\n",
    "    _inner inner\n",
    "\n",
    "cpdef dict createNestedStruct(int a, int b):\n",
    "    cdef nested n = {'outer_a': a, 'inner': {'inner_a': 2}}\n",
    "    print('Nested structures cannot be declared inline but it can do it separately.')\n",
    "    return n"
   ]
  },
  {
   "cell_type": "code",
   "execution_count": 32,
   "metadata": {},
   "outputs": [
    {
     "name": "stdout",
     "output_type": "stream",
     "text": [
      "Nested structures cannot be declared inline but it can do it separately.\n"
     ]
    },
    {
     "data": {
      "text/plain": [
       "{'outer_a': 1, 'inner': {'inner_a': 2}}"
      ]
     },
     "execution_count": 32,
     "metadata": {},
     "output_type": "execute_result"
    }
   ],
   "source": [
    "createNestedStruct(1,2)"
   ]
  },
  {
   "cell_type": "markdown",
   "metadata": {},
   "source": [
    "## C enums"
   ]
  },
  {
   "cell_type": "code",
   "execution_count": 34,
   "metadata": {},
   "outputs": [],
   "source": [
    "%%cython\n",
    "\n",
    "cdef enum PRIMARIES:\n",
    "    RED   = 1\n",
    "    GREEN = 2\n",
    "    BLUE  = 3\n",
    "\n",
    "cdef enum SECONDARIES:\n",
    "    ORANGE, YELLOW, PURPLE\n",
    "\n",
    "cpdef getColor(float r, float g, float b):\n",
    "    cdef max_col = max(r, g, b)\n",
    "    if max_col == r:\n",
    "        return PRIMARIES.RED\n",
    "    elif max_col == g:\n",
    "        return PRIMARIES.GREEN\n",
    "    elif max_col == b:\n",
    "        return PRIMARIES.BLUE\n",
    "    else:\n",
    "        return PRIMARIES.RED"
   ]
  },
  {
   "cell_type": "code",
   "execution_count": 35,
   "metadata": {},
   "outputs": [
    {
     "data": {
      "text/plain": [
       "3"
      ]
     },
     "execution_count": 35,
     "metadata": {},
     "output_type": "execute_result"
    }
   ],
   "source": [
    "getColor(.1, .2, .3)"
   ]
  },
  {
   "cell_type": "markdown",
   "metadata": {},
   "source": [
    "## Creating an alias for a type"
   ]
  },
  {
   "cell_type": "code",
   "execution_count": 37,
   "metadata": {},
   "outputs": [],
   "source": [
    "%%cython\n",
    "\n",
    "ctypedef double real\n",
    "ctypedef char pixel\n",
    "\n",
    "cpdef real calculateEnergy(real mass, real velocity):\n",
    "    return mass * velocity**2"
   ]
  },
  {
   "cell_type": "code",
   "execution_count": 38,
   "metadata": {},
   "outputs": [
    {
     "data": {
      "text/plain": [
       "18.0"
      ]
     },
     "execution_count": 38,
     "metadata": {},
     "output_type": "execute_result"
    }
   ],
   "source": [
    "calculateEnergy(2., 3.)"
   ]
  },
  {
   "cell_type": "markdown",
   "metadata": {},
   "source": [
    "## Fused types"
   ]
  },
  {
   "cell_type": "markdown",
   "metadata": {},
   "source": [
    "Integrals are a fusion of all integer types, `floating` is for double and floats and `numeric` for all numbers."
   ]
  },
  {
   "cell_type": "code",
   "execution_count": 43,
   "metadata": {},
   "outputs": [],
   "source": [
    "%%cython\n",
    "\n",
    "from cython cimport integral\n",
    "\n",
    "cpdef integral integralMax(integral a, integral b):\n",
    "    print(\"Both types need to be the same for this to work.\")\n",
    "    return a if a > b else b"
   ]
  },
  {
   "cell_type": "code",
   "execution_count": 44,
   "metadata": {},
   "outputs": [
    {
     "name": "stdout",
     "output_type": "stream",
     "text": [
      "Both types need to be the same for this to work.\n"
     ]
    },
    {
     "data": {
      "text/plain": [
       "2"
      ]
     },
     "execution_count": 44,
     "metadata": {},
     "output_type": "execute_result"
    }
   ],
   "source": [
    "integralMax(1,2)"
   ]
  },
  {
   "cell_type": "markdown",
   "metadata": {},
   "source": [
    "## Macros in Cython"
   ]
  },
  {
   "cell_type": "code",
   "execution_count": 45,
   "metadata": {},
   "outputs": [],
   "source": [
    "%%cython\n",
    "\n",
    "DEF E = 2.718281828\n",
    "DEF PI = 3.141592653\n",
    "\n",
    "cpdef complex eulerCycle(float x):\n",
    "    return E ** (1j * PI * x)"
   ]
  },
  {
   "cell_type": "code",
   "execution_count": 46,
   "metadata": {},
   "outputs": [
    {
     "data": {
      "text/plain": [
       "(1-2.240648800514172e-09j)"
      ]
     },
     "execution_count": 46,
     "metadata": {},
     "output_type": "execute_result"
    }
   ],
   "source": [
    "eulerCycle(2.)"
   ]
  },
  {
   "cell_type": "code",
   "execution_count": 47,
   "metadata": {},
   "outputs": [
    {
     "data": {
      "text/plain": [
       "(0.7071067813845948+0.7071067809885003j)"
      ]
     },
     "execution_count": 47,
     "metadata": {},
     "output_type": "execute_result"
    }
   ],
   "source": [
    "eulerCycle(.25)"
   ]
  },
  {
   "cell_type": "code",
   "execution_count": null,
   "metadata": {},
   "outputs": [],
   "source": []
  }
 ],
 "metadata": {
  "kernelspec": {
   "display_name": "Python 3",
   "language": "python",
   "name": "python3"
  },
  "language_info": {
   "codemirror_mode": {
    "name": "ipython",
    "version": 3
   },
   "file_extension": ".py",
   "mimetype": "text/x-python",
   "name": "python",
   "nbconvert_exporter": "python",
   "pygments_lexer": "ipython3",
   "version": "3.8.5"
  }
 },
 "nbformat": 4,
 "nbformat_minor": 4
}
